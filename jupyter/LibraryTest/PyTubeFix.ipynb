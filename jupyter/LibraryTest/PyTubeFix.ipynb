{
 "cells": [
  {
   "cell_type": "markdown",
   "metadata": {},
   "source": [
    "# Setup Environment\n",
    "References:  \n",
    "https://pypi.org/project/pytubefix/  \n",
    "https://pytubefix.readthedocs.io/  "
   ]
  },
  {
   "cell_type": "code",
   "execution_count": 15,
   "metadata": {},
   "outputs": [
    {
     "name": "stdout",
     "output_type": "stream",
     "text": [
      "Requirement already satisfied: pytubefix in d:\\pypjts\\icrawler\\.env64\\lib\\site-packages (6.6.3)\n"
     ]
    }
   ],
   "source": [
    "!pip install pytubefix"
   ]
  },
  {
   "cell_type": "code",
   "execution_count": 32,
   "metadata": {},
   "outputs": [],
   "source": [
    "import sys \n",
    "sys.path.append(\"D:\\pypjts\\iCrawler\\src\")"
   ]
  },
  {
   "cell_type": "markdown",
   "metadata": {},
   "source": [
    "# 패키지/모듈 로딩"
   ]
  },
  {
   "cell_type": "code",
   "execution_count": 57,
   "metadata": {},
   "outputs": [
    {
     "data": {
      "text/plain": [
       "<module 'ipycrawl.crawlers.youtube.pytubefix' from 'D:\\\\pypjts\\\\iCrawler\\\\src\\\\ipycrawl\\\\crawlers\\\\youtube\\\\pytubefix.py'>"
      ]
     },
     "execution_count": 57,
     "metadata": {},
     "output_type": "execute_result"
    }
   ],
   "source": [
    "import pprint \n",
    "pp = pprint.PrettyPrinter(indent=2)\n",
    "import os \n",
    "from importlib import reload\n",
    "\n",
    "\n",
    "from pytubefix import YouTube \n",
    "from pytubefix.cli import on_progress\n",
    "\n",
    "from ipycrawl.crawlers.youtube import pytubefix \n",
    "reload(pytubefix)"
   ]
  },
  {
   "cell_type": "code",
   "execution_count": 4,
   "metadata": {},
   "outputs": [
    {
     "data": {
      "text/plain": [
       "pytubefix.__main__.YouTube"
      ]
     },
     "execution_count": 4,
     "metadata": {},
     "output_type": "execute_result"
    }
   ],
   "source": [
    "YouTube "
   ]
  },
  {
   "cell_type": "code",
   "execution_count": 37,
   "metadata": {},
   "outputs": [
    {
     "data": {
      "text/plain": [
       "<pytubefix.__main__.YouTube object: videoId=AVvG2geRJ6I>"
      ]
     },
     "execution_count": 37,
     "metadata": {},
     "output_type": "execute_result"
    }
   ],
   "source": [
    "yt = YouTube(\"https://www.youtube.com/watch?v=AVvG2geRJ6I&ab_channel=%EA%BF%80%EC%B4%88%EC%95%84tv\")\n",
    "yt "
   ]
  },
  {
   "cell_type": "code",
   "execution_count": 38,
   "metadata": {},
   "outputs": [
    {
     "data": {
      "text/plain": [
       "{'_js': None,\n",
       " '_js_url': None,\n",
       " '_vid_info': None,\n",
       " '_watch_html': None,\n",
       " '_embed_html': None,\n",
       " '_player_config_args': None,\n",
       " '_age_restricted': None,\n",
       " '_fmt_streams': None,\n",
       " '_initial_data': None,\n",
       " '_metadata': None,\n",
       " 'video_id': 'AVvG2geRJ6I',\n",
       " 'watch_url': 'https://youtube.com/watch?v=AVvG2geRJ6I',\n",
       " 'embed_url': 'https://www.youtube.com/embed/AVvG2geRJ6I',\n",
       " 'client': 'ANDROID_TESTSUITE',\n",
       " 'fallback_clients': ['WEB'],\n",
       " '_signature_timestamp': {},\n",
       " 'stream_monostate': <pytubefix.monostate.Monostate at 0x1ddb31491f0>,\n",
       " '_author': None,\n",
       " '_title': None,\n",
       " '_publish_date': None,\n",
       " 'use_oauth': False,\n",
       " 'allow_oauth_cache': True,\n",
       " 'token_file': None}"
      ]
     },
     "execution_count": 38,
     "metadata": {},
     "output_type": "execute_result"
    }
   ],
   "source": [
    "yt.__dict__"
   ]
  },
  {
   "cell_type": "code",
   "execution_count": 39,
   "metadata": {},
   "outputs": [
    {
     "data": {
      "text/plain": [
       "'센슈얼 디바에서 바차타 일타강사로🎓사라 파네로 핵심작렬 바차타 특강💯💯💯 Marco y Sara Workshop 마르코 사라'"
      ]
     },
     "execution_count": 39,
     "metadata": {},
     "output_type": "execute_result"
    }
   ],
   "source": [
    "yt.title "
   ]
  },
  {
   "cell_type": "code",
   "execution_count": 40,
   "metadata": {},
   "outputs": [
    {
     "data": {
      "text/plain": [
       "'https://i.ytimg.com/vi/AVvG2geRJ6I/sddefault.jpg'"
      ]
     },
     "execution_count": 40,
     "metadata": {},
     "output_type": "execute_result"
    }
   ],
   "source": [
    "yt.thumbnail_url"
   ]
  },
  {
   "cell_type": "code",
   "execution_count": 41,
   "metadata": {},
   "outputs": [
    {
     "data": {
      "text/plain": [
       "1686"
      ]
     },
     "execution_count": 41,
     "metadata": {},
     "output_type": "execute_result"
    }
   ],
   "source": [
    "yt.length "
   ]
  },
  {
   "cell_type": "code",
   "execution_count": 52,
   "metadata": {},
   "outputs": [
    {
     "name": "stdout",
     "output_type": "stream",
     "text": [
      "<Stream: itag=\"18\" mime_type=\"video/mp4\" res=\"360p\" fps=\"30fps\" vcodec=\"avc1.42001E\" acodec=\"mp4a.40.2\" progressive=\"True\" type=\"video\">\n",
      "<Stream: itag=\"137\" mime_type=\"video/mp4\" res=\"1080p\" fps=\"30fps\" vcodec=\"avc1.640028\" progressive=\"False\" type=\"video\">\n",
      "<Stream: itag=\"248\" mime_type=\"video/webm\" res=\"1080p\" fps=\"30fps\" vcodec=\"vp9\" progressive=\"False\" type=\"video\">\n",
      "<Stream: itag=\"136\" mime_type=\"video/mp4\" res=\"720p\" fps=\"30fps\" vcodec=\"avc1.64001f\" progressive=\"False\" type=\"video\">\n",
      "<Stream: itag=\"247\" mime_type=\"video/webm\" res=\"720p\" fps=\"30fps\" vcodec=\"vp9\" progressive=\"False\" type=\"video\">\n",
      "<Stream: itag=\"135\" mime_type=\"video/mp4\" res=\"480p\" fps=\"30fps\" vcodec=\"avc1.4d401f\" progressive=\"False\" type=\"video\">\n",
      "<Stream: itag=\"244\" mime_type=\"video/webm\" res=\"480p\" fps=\"30fps\" vcodec=\"vp9\" progressive=\"False\" type=\"video\">\n",
      "<Stream: itag=\"134\" mime_type=\"video/mp4\" res=\"360p\" fps=\"30fps\" vcodec=\"avc1.4d401e\" progressive=\"False\" type=\"video\">\n",
      "<Stream: itag=\"243\" mime_type=\"video/webm\" res=\"360p\" fps=\"30fps\" vcodec=\"vp9\" progressive=\"False\" type=\"video\">\n",
      "<Stream: itag=\"133\" mime_type=\"video/mp4\" res=\"240p\" fps=\"30fps\" vcodec=\"avc1.4d4015\" progressive=\"False\" type=\"video\">\n",
      "<Stream: itag=\"242\" mime_type=\"video/webm\" res=\"240p\" fps=\"30fps\" vcodec=\"vp9\" progressive=\"False\" type=\"video\">\n",
      "<Stream: itag=\"160\" mime_type=\"video/mp4\" res=\"144p\" fps=\"30fps\" vcodec=\"avc1.4d400c\" progressive=\"False\" type=\"video\">\n",
      "<Stream: itag=\"278\" mime_type=\"video/webm\" res=\"144p\" fps=\"30fps\" vcodec=\"vp9\" progressive=\"False\" type=\"video\">\n",
      "<Stream: itag=\"139\" mime_type=\"audio/mp4\" abr=\"48kbps\" acodec=\"mp4a.40.5\" progressive=\"False\" type=\"audio\">\n",
      "<Stream: itag=\"140\" mime_type=\"audio/mp4\" abr=\"128kbps\" acodec=\"mp4a.40.2\" progressive=\"False\" type=\"audio\">\n",
      "<Stream: itag=\"249\" mime_type=\"audio/webm\" abr=\"50kbps\" acodec=\"opus\" progressive=\"False\" type=\"audio\">\n",
      "<Stream: itag=\"250\" mime_type=\"audio/webm\" abr=\"70kbps\" acodec=\"opus\" progressive=\"False\" type=\"audio\">\n",
      "<Stream: itag=\"251\" mime_type=\"audio/webm\" abr=\"160kbps\" acodec=\"opus\" progressive=\"False\" type=\"audio\">\n"
     ]
    }
   ],
   "source": [
    "for st in yt.streams:\n",
    "    print(st)"
   ]
  },
  {
   "cell_type": "code",
   "execution_count": 44,
   "metadata": {},
   "outputs": [
    {
     "data": {
      "text/plain": [
       "<Stream: itag=\"18\" mime_type=\"video/mp4\" res=\"360p\" fps=\"30fps\" vcodec=\"avc1.42001E\" acodec=\"mp4a.40.2\" progressive=\"True\" type=\"video\">"
      ]
     },
     "execution_count": 44,
     "metadata": {},
     "output_type": "execute_result"
    }
   ],
   "source": [
    "stream = yt.streams.get_lowest_resolution()\n",
    "stream "
   ]
  },
  {
   "cell_type": "code",
   "execution_count": 54,
   "metadata": {},
   "outputs": [
    {
     "data": {
      "text/plain": [
       "[<Stream: itag=\"137\" mime_type=\"video/mp4\" res=\"1080p\" fps=\"30fps\" vcodec=\"avc1.640028\" progressive=\"False\" type=\"video\">]"
      ]
     },
     "execution_count": 54,
     "metadata": {},
     "output_type": "execute_result"
    }
   ],
   "source": [
    "streams = yt.streams.filter(file_extension='mp4', resolution='1080p')\n",
    "streams"
   ]
  },
  {
   "cell_type": "code",
   "execution_count": 51,
   "metadata": {},
   "outputs": [
    {
     "data": {
      "text/plain": [
       "'d:\\\\pypjts\\\\iCrawler\\\\jupyter\\\\LibraryTest\\\\센슈얼 디바에서 바차타 일타강사로🎓사라 파네로 핵심작렬 바차타 특강💯💯💯 Marco y Sara Workshop 마르코 사라.mp4'"
      ]
     },
     "execution_count": 51,
     "metadata": {},
     "output_type": "execute_result"
    }
   ],
   "source": [
    "streams[0].download(mp3=True)"
   ]
  },
  {
   "cell_type": "code",
   "execution_count": null,
   "metadata": {},
   "outputs": [],
   "source": []
  },
  {
   "cell_type": "code",
   "execution_count": 10,
   "metadata": {},
   "outputs": [
    {
     "name": "stdout",
     "output_type": "stream",
     "text": [
      "센슈얼 디바에서 바차타 일타강사로🎓사라 파네로 핵심작렬 바차타 특강💯💯💯 Marco y Sara Workshop 마르코 사라\n",
      " ↳ |████████████████████████████████████████████| 100.0%\r"
     ]
    },
    {
     "data": {
      "text/plain": [
       "'d:\\\\pypjts\\\\iCrawler\\\\jupyter\\\\LibraryTest\\\\센슈얼 디바에서 바차타 일타강사로🎓사라 파네로 핵심작렬 바차타 특강💯💯💯 Marco y Sara Workshop 마르코 사라.mp4'"
      ]
     },
     "execution_count": 10,
     "metadata": {},
     "output_type": "execute_result"
    }
   ],
   "source": [
    "url = \"https://www.youtube.com/watch?v=AVvG2geRJ6I&ab_channel=%EA%BF%80%EC%B4%88%EC%95%84tv\"\n",
    " \n",
    "yt = YouTube(url, on_progress_callback = on_progress)\n",
    "print(yt.title)\n",
    " \n",
    "stream = yt.streams.get_highest_resolution()\n",
    "stream.download()"
   ]
  },
  {
   "cell_type": "code",
   "execution_count": 23,
   "metadata": {},
   "outputs": [
    {
     "data": {
      "text/plain": [
       "<Stream: itag=\"18\" mime_type=\"video/mp4\" res=\"360p\" fps=\"30fps\" vcodec=\"avc1.42001E\" acodec=\"mp4a.40.2\" progressive=\"True\" type=\"video\">"
      ]
     },
     "execution_count": 23,
     "metadata": {},
     "output_type": "execute_result"
    }
   ],
   "source": [
    "yt.streams.get_highest_resolution()"
   ]
  },
  {
   "cell_type": "code",
   "execution_count": 14,
   "metadata": {},
   "outputs": [
    {
     "data": {
      "text/plain": [
       "18"
      ]
     },
     "execution_count": 14,
     "metadata": {},
     "output_type": "execute_result"
    }
   ],
   "source": [
    "streams = yt.streams\n",
    "len(streams)"
   ]
  },
  {
   "cell_type": "code",
   "execution_count": 26,
   "metadata": {},
   "outputs": [
    {
     "data": {
      "text/plain": [
       "<Stream: itag=\"137\" mime_type=\"video/mp4\" res=\"1080p\" fps=\"30fps\" vcodec=\"avc1.640028\" progressive=\"False\" type=\"video\">"
      ]
     },
     "execution_count": 26,
     "metadata": {},
     "output_type": "execute_result"
    }
   ],
   "source": [
    "def select_highest_resolution(yt):\n",
    "    for st in yt.streams:\n",
    "        # print('-'*100)\n",
    "        # print(type(st))\n",
    "        # print(st)\n",
    "        if st.__dict__['resolution'] == '1080p':\n",
    "            # pp.pprint(st.__dict__)\n",
    "            break \n",
    "    return st\n",
    "\n",
    "select_highest_resolution(yt)"
   ]
  },
  {
   "cell_type": "code",
   "execution_count": 33,
   "metadata": {},
   "outputs": [
    {
     "name": "stdout",
     "output_type": "stream",
     "text": [
      "센슈얼 디바에서 바차타 일타강사로🎓사라 파네로 핵심작렬 바차타 특강💯💯💯 Marco y Sara Workshop 마르코 사라\n",
      "d:\\pypjts\\iCrawler\\jupyter\\LibraryTest\n",
      "d:\\pypjts\\iCrawler\\jupyter\\LibraryTest\\센슈얼 디바에서 바차타 일타강사로🎓사라 파네로 핵심작렬 바차타 특강💯💯💯 Marco y Sara Workshop 마르코 사라.mp4\n",
      "d:\\pypjts\\iCrawler\\jupyter\\LibraryTest\\센슈얼 디바에서 바차타 일타강사로🎓사라 파네로 핵심작렬 바차타 특강💯💯💯 Marco y Sara Workshop 마르코 사라_1080p.mp4\n",
      "DONE | d:\\pypjts\\iCrawler\\jupyter\\LibraryTest\\센슈얼 디바에서 바차타 일타강사로🎓사라 파네로 핵심작렬 바차타 특강💯💯💯 Marco y Sara Workshop 마르코 사라_1080p.mp4\n"
     ]
    }
   ],
   "source": [
    "import os \n",
    "\n",
    "\n",
    "def download_video(url):\n",
    "    yt = YouTube(url, on_progress_callback = on_progress)\n",
    "    print(yt.title)\n",
    "    \n",
    "    stream = select_highest_resolution(yt)\n",
    "    # stream.download()\n",
    "\n",
    "    # 파일명수정\n",
    "    srcfile = os.path.join(os.getcwd(), f\"{yt.title}.mp4\")\n",
    "    dstfile = os.path.join(os.getcwd(), f\"{yt.title}_{stream.__dict__['resolution']}.mp4\")\n",
    "    try:\n",
    "        os.rename(srcfile, dstfile)\n",
    "        print(f'DONE | {dstfile}')\n",
    "    except OSError as e:\n",
    "        print(f\"ERROR | {e}\")\n",
    "\n",
    "\n",
    "download_video(\"https://www.youtube.com/watch?v=AVvG2geRJ6I&ab_channel=%EA%BF%80%EC%B4%88%EC%95%84tv\")"
   ]
  },
  {
   "cell_type": "code",
   "execution_count": 58,
   "metadata": {},
   "outputs": [
    {
     "name": "stdout",
     "output_type": "stream",
     "text": [
      "Title: 센슈얼 디바에서 바차타 일타강사로🎓사라 파네로 핵심작렬 바차타 특강💯💯💯 Marco y Sara Workshop 마르코 사라\n",
      "Resolution: 1080p\n",
      "DONE | d:\\pypjts\\iCrawler\\jupyter\\LibraryTest\\센슈얼 디바에서 바차타 일타강사로🎓사라 파네로 핵심작렬 바차타 특강💯💯💯 Marco y Sara Workshop 마르코 사라_1080p.mp4.mp3\n"
     ]
    }
   ],
   "source": [
    "pytubefix.download_video(\"https://www.youtube.com/watch?v=AVvG2geRJ6I&ab_channel=%EA%BF%80%EC%B4%88%EC%95%84tv\")"
   ]
  },
  {
   "cell_type": "markdown",
   "metadata": {},
   "source": [
    "## MP3 다운로드"
   ]
  },
  {
   "cell_type": "code",
   "execution_count": 30,
   "metadata": {},
   "outputs": [
    {
     "name": "stdout",
     "output_type": "stream",
     "text": [
      "CHARLES LUIS - OCASION OFFICIAL VIDEOLYRICS\n",
      "[<Stream: itag=\"18\" mime_type=\"video/mp4\" res=\"360p\" fps=\"30fps\" vcodec=\"avc1.42001E\" acodec=\"mp4a.40.2\" progressive=\"True\" type=\"video\">, <Stream: itag=\"313\" mime_type=\"video/webm\" res=\"2160p\" fps=\"30fps\" vcodec=\"vp9\" progressive=\"False\" type=\"video\">, <Stream: itag=\"271\" mime_type=\"video/webm\" res=\"1440p\" fps=\"30fps\" vcodec=\"vp9\" progressive=\"False\" type=\"video\">, <Stream: itag=\"137\" mime_type=\"video/mp4\" res=\"1080p\" fps=\"30fps\" vcodec=\"avc1.640028\" progressive=\"False\" type=\"video\">, <Stream: itag=\"248\" mime_type=\"video/webm\" res=\"1080p\" fps=\"30fps\" vcodec=\"vp9\" progressive=\"False\" type=\"video\">, <Stream: itag=\"136\" mime_type=\"video/mp4\" res=\"720p\" fps=\"30fps\" vcodec=\"avc1.4d401f\" progressive=\"False\" type=\"video\">, <Stream: itag=\"247\" mime_type=\"video/webm\" res=\"720p\" fps=\"30fps\" vcodec=\"vp9\" progressive=\"False\" type=\"video\">, <Stream: itag=\"135\" mime_type=\"video/mp4\" res=\"480p\" fps=\"30fps\" vcodec=\"avc1.4d401f\" progressive=\"False\" type=\"video\">, <Stream: itag=\"244\" mime_type=\"video/webm\" res=\"480p\" fps=\"30fps\" vcodec=\"vp9\" progressive=\"False\" type=\"video\">, <Stream: itag=\"134\" mime_type=\"video/mp4\" res=\"360p\" fps=\"30fps\" vcodec=\"avc1.4d401e\" progressive=\"False\" type=\"video\">, <Stream: itag=\"243\" mime_type=\"video/webm\" res=\"360p\" fps=\"30fps\" vcodec=\"vp9\" progressive=\"False\" type=\"video\">, <Stream: itag=\"133\" mime_type=\"video/mp4\" res=\"240p\" fps=\"30fps\" vcodec=\"avc1.4d4015\" progressive=\"False\" type=\"video\">, <Stream: itag=\"242\" mime_type=\"video/webm\" res=\"240p\" fps=\"30fps\" vcodec=\"vp9\" progressive=\"False\" type=\"video\">, <Stream: itag=\"160\" mime_type=\"video/mp4\" res=\"144p\" fps=\"30fps\" vcodec=\"avc1.4d400c\" progressive=\"False\" type=\"video\">, <Stream: itag=\"278\" mime_type=\"video/webm\" res=\"144p\" fps=\"30fps\" vcodec=\"vp9\" progressive=\"False\" type=\"video\">, <Stream: itag=\"139\" mime_type=\"audio/mp4\" abr=\"48kbps\" acodec=\"mp4a.40.5\" progressive=\"False\" type=\"audio\">, <Stream: itag=\"140\" mime_type=\"audio/mp4\" abr=\"128kbps\" acodec=\"mp4a.40.2\" progressive=\"False\" type=\"audio\">, <Stream: itag=\"249\" mime_type=\"audio/webm\" abr=\"50kbps\" acodec=\"opus\" progressive=\"False\" type=\"audio\">, <Stream: itag=\"250\" mime_type=\"audio/webm\" abr=\"70kbps\" acodec=\"opus\" progressive=\"False\" type=\"audio\">, <Stream: itag=\"251\" mime_type=\"audio/webm\" abr=\"160kbps\" acodec=\"opus\" progressive=\"False\" type=\"audio\">]\n",
      "[]\n",
      "<Stream: itag=\"140\" mime_type=\"audio/mp4\" abr=\"128kbps\" acodec=\"mp4a.40.2\" progressive=\"False\" type=\"audio\">\n",
      "{ '_filesize': 3041194,\n",
      "  '_filesize_gb': 0.003,\n",
      "  '_filesize_kb': 2969.917,\n",
      "  '_filesize_mb': 2.901,\n",
      "  '_monostate': <pytubefix.monostate.Monostate object at 0x000001DDB315F0A0>,\n",
      "  'abr': '128kbps',\n",
      "  'audio_codec': 'mp4a.40.2',\n",
      "  'audio_track_name': None,\n",
      "  'bitrate': 130731,\n",
      "  'codecs': ['mp4a.40.2'],\n",
      "  'includes_multiple_audio_tracks': False,\n",
      "  'is_3d': False,\n",
      "  'is_dash': True,\n",
      "  'is_default_audio_track': True,\n",
      "  'is_hdr': False,\n",
      "  'is_live': False,\n",
      "  'is_otf': False,\n",
      "  'itag': 140,\n",
      "  'mime_type': 'audio/mp4',\n",
      "  'resolution': None,\n",
      "  'subtype': 'mp4',\n",
      "  'type': 'audio',\n",
      "  'url': 'https://rr7---sn-3u-bh2s7.googlevideo.com/videoplayback?expire=1722190451&ei=EzamZtm1K-mq1d8P97SGiAM&ip=211.55.98.198&id=o-AG776Y2mVERt9yTg6o0JR0eX7AbszBOJAvINdLGhGzsX&itag=140&source=youtube&requiressl=yes&xpc=EgVo2aDSNQ%3D%3D&mh=k5&mm=31%2C26&mn=sn-3u-bh2s7%2Csn-oguesn6s&ms=au%2Conr&mv=m&mvi=7&pcm2cms=yes&pl=23&initcwndbps=1572500&vprv=1&svpuc=1&mime=audio%2Fmp4&rqh=1&gir=yes&clen=3041194&dur=187.872&lmt=1707559759061900&mt=1722168317&fvip=4&keepalive=yes&c=ANDROID_TESTSUITE&txp=5432434&sparams=expire%2Cei%2Cip%2Cid%2Citag%2Csource%2Crequiressl%2Cxpc%2Cvprv%2Csvpuc%2Cmime%2Crqh%2Cgir%2Cclen%2Cdur%2Clmt&sig=AJfQdSswRQIgCYvYQ2oEldTVn965GIYtKq_l3TQmRebGSUkCFPmNLvACIQDIJvcvwdTbw8FTBgT-4j9n1gofFGdcs0q5d640h-1N0g%3D%3D&lsparams=mh%2Cmm%2Cmn%2Cms%2Cmv%2Cmvi%2Cpcm2cms%2Cpl%2Cinitcwndbps&lsig=AGtxev0wRQIgaUtGWhNz8iuNvfLhgwbpK7VNeoSlxgNkrLNo3SYM-pcCIQCQiJpqP_hRaP3dEClVDRevQ43blijj8azIT2m51TUMeA%3D%3D',\n",
      "  'video_codec': None}\n",
      "DONE | d:\\pypjts\\iCrawler\\jupyter\\LibraryTest\\CHARLES LUIS - OCASION OFFICIAL VIDEOLYRICS_128kbps.mp3\n"
     ]
    }
   ],
   "source": [
    "def download_mp3(url):\n",
    "    yt = YouTube(url, on_progress_callback=on_progress)    \n",
    "    print(yt.title)\n",
    "\n",
    "    pp.pprint(yt.streams)\n",
    "\n",
    "    stream = yt.streams.filter(abr='192kbps')\n",
    "    print(stream)\n",
    "\n",
    "    stream = yt.streams.get_audio_only()\n",
    "    print(stream)\n",
    "    pp.pprint(stream.__dict__)\n",
    "    # stream.download(mp3=True)\n",
    "\n",
    "    bit_rate = stream.__dict__['abr']\n",
    "    print(f'DONE | {os.path.join(os.getcwd(), f\"{yt.title}_{bit_rate}.mp3\")}')\n",
    "\n",
    "download_mp3(\"https://youtu.be/mHwuzgszESg?feature=shared\")"
   ]
  },
  {
   "cell_type": "code",
   "execution_count": 17,
   "metadata": {},
   "outputs": [
    {
     "name": "stdout",
     "output_type": "stream",
     "text": [
      "CHARLES LUIS - OCASION OFFICIAL VIDEOLYRICS\n"
     ]
    }
   ],
   "source": [
    "pytubefix.download_mp3(\"https://www.youtube.com/watch?v=mHwuzgszESg&list=PL_a1wRn79us8NKB6dxtmH6x3UlBaizsa9&index=19&ab_channel=CharlesLuis\")"
   ]
  },
  {
   "cell_type": "code",
   "execution_count": null,
   "metadata": {},
   "outputs": [],
   "source": []
  },
  {
   "cell_type": "code",
   "execution_count": null,
   "metadata": {},
   "outputs": [],
   "source": []
  },
  {
   "cell_type": "code",
   "execution_count": null,
   "metadata": {},
   "outputs": [],
   "source": []
  },
  {
   "cell_type": "code",
   "execution_count": null,
   "metadata": {},
   "outputs": [],
   "source": []
  },
  {
   "cell_type": "code",
   "execution_count": null,
   "metadata": {},
   "outputs": [],
   "source": []
  },
  {
   "cell_type": "code",
   "execution_count": null,
   "metadata": {},
   "outputs": [],
   "source": []
  },
  {
   "cell_type": "code",
   "execution_count": null,
   "metadata": {},
   "outputs": [],
   "source": []
  }
 ],
 "metadata": {
  "kernelspec": {
   "display_name": ".env64",
   "language": "python",
   "name": "python3"
  },
  "language_info": {
   "codemirror_mode": {
    "name": "ipython",
    "version": 3
   },
   "file_extension": ".py",
   "mimetype": "text/x-python",
   "name": "python",
   "nbconvert_exporter": "python",
   "pygments_lexer": "ipython3",
   "version": "3.9.2"
  }
 },
 "nbformat": 4,
 "nbformat_minor": 2
}
