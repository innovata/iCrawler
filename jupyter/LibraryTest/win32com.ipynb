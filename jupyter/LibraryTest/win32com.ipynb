{
 "cells": [
  {
   "cell_type": "code",
   "execution_count": 1,
   "metadata": {},
   "outputs": [
    {
     "name": "stdout",
     "output_type": "stream",
     "text": [
      "Requirement already satisfied: pywin32 in f:\\pypjts\\icrawler\\.env64\\lib\\site-packages (306)\n"
     ]
    }
   ],
   "source": [
    "!pip install --upgrade pywin32"
   ]
  },
  {
   "cell_type": "code",
   "execution_count": 6,
   "metadata": {},
   "outputs": [
    {
     "data": {
      "text/plain": [
       "<module 'win32com' from 'f:\\\\pypjts\\\\iCrawler\\\\.env64\\\\Lib\\\\site-packages\\\\win32com\\\\__init__.py'>"
      ]
     },
     "execution_count": 6,
     "metadata": {},
     "output_type": "execute_result"
    }
   ],
   "source": [
    "import win32com\n",
    "win32com"
   ]
  },
  {
   "cell_type": "code",
   "execution_count": 3,
   "metadata": {},
   "outputs": [
    {
     "data": {
      "text/plain": [
       "['SetupEnvironment',\n",
       " '__PackageSupportBuildPath__',\n",
       " '__build_path__',\n",
       " '__builtins__',\n",
       " '__cached__',\n",
       " '__doc__',\n",
       " '__file__',\n",
       " '__gen_path__',\n",
       " '__loader__',\n",
       " '__name__',\n",
       " '__package__',\n",
       " '__path__',\n",
       " '__spec__',\n",
       " '_frozen',\n",
       " 'gen_py']"
      ]
     },
     "execution_count": 3,
     "metadata": {},
     "output_type": "execute_result"
    }
   ],
   "source": [
    "dir(win32com)"
   ]
  },
  {
   "cell_type": "code",
   "execution_count": 4,
   "metadata": {},
   "outputs": [],
   "source": [
    "from win32com import shell "
   ]
  },
  {
   "cell_type": "code",
   "execution_count": 5,
   "metadata": {},
   "outputs": [
    {
     "data": {
      "text/plain": [
       "<module 'win32com.shell' from 'f:\\\\pypjts\\\\iCrawler\\\\.env64\\\\Lib\\\\site-packages\\\\win32comext\\\\shell\\\\__init__.py'>"
      ]
     },
     "execution_count": 5,
     "metadata": {},
     "output_type": "execute_result"
    }
   ],
   "source": [
    "shell "
   ]
  },
  {
   "cell_type": "code",
   "execution_count": 9,
   "metadata": {},
   "outputs": [
    {
     "data": {
      "text/plain": [
       "<module 'win32api' from 'f:\\\\pypjts\\\\iCrawler\\\\.env64\\\\Lib\\\\site-packages\\\\win32\\\\win32api.pyd'>"
      ]
     },
     "execution_count": 9,
     "metadata": {},
     "output_type": "execute_result"
    }
   ],
   "source": [
    "import win32api \n",
    "win32api"
   ]
  },
  {
   "cell_type": "code",
   "execution_count": 14,
   "metadata": {},
   "outputs": [
    {
     "data": {
      "text/plain": [
       "<module 'win32con' from 'f:\\\\pypjts\\\\iCrawler\\\\.env64\\\\Lib\\\\site-packages\\\\win32\\\\lib\\\\win32con.py'>"
      ]
     },
     "execution_count": 14,
     "metadata": {},
     "output_type": "execute_result"
    }
   ],
   "source": [
    "import win32con \n",
    "win32con "
   ]
  },
  {
   "cell_type": "code",
   "execution_count": 12,
   "metadata": {},
   "outputs": [
    {
     "data": {
      "text/plain": [
       "<module 'pythoncom' (f:\\pypjts\\iCrawler\\.env64\\Lib\\site-packages\\pywin32_system32\\pythoncom312.dll)>"
      ]
     },
     "execution_count": 12,
     "metadata": {},
     "output_type": "execute_result"
    }
   ],
   "source": [
    "import pythoncom \n",
    "pythoncom"
   ]
  },
  {
   "cell_type": "code",
   "execution_count": 13,
   "metadata": {},
   "outputs": [
    {
     "data": {
      "text/plain": [
       "<module 'win32com.client' from 'f:\\\\pypjts\\\\iCrawler\\\\.env64\\\\Lib\\\\site-packages\\\\win32com\\\\client\\\\__init__.py'>"
      ]
     },
     "execution_count": 13,
     "metadata": {},
     "output_type": "execute_result"
    }
   ],
   "source": [
    "import win32com.client\n",
    "win32com.client"
   ]
  },
  {
   "cell_type": "code",
   "execution_count": 15,
   "metadata": {},
   "outputs": [
    {
     "name": "stderr",
     "output_type": "stream",
     "text": [
      "<>:1: SyntaxWarning: invalid escape sequence '\\p'\n",
      "<>:1: SyntaxWarning: invalid escape sequence '\\p'\n",
      "C:\\Users\\JLE69\\AppData\\Local\\Temp\\ipykernel_81576\\3880912875.py:1: SyntaxWarning: invalid escape sequence '\\p'\n",
      "  filepath = \"F:\\pypjts\\iCrawler\\jupyter\\LibraryTest\\CHARLES LUIS - OCASION OFFICIAL VIDEOLYRICS.mp3\"\n"
     ]
    }
   ],
   "source": [
    "filepath = \"F:\\pypjts\\iCrawler\\jupyter\\LibraryTest\\CHARLES LUIS - OCASION OFFICIAL VIDEOLYRICS.mp3\""
   ]
  },
  {
   "cell_type": "code",
   "execution_count": 16,
   "metadata": {},
   "outputs": [
    {
     "data": {
      "text/plain": [
       "32"
      ]
     },
     "execution_count": 16,
     "metadata": {},
     "output_type": "execute_result"
    }
   ],
   "source": [
    "attr = win32api.GetFileAttributes(filepath)\n",
    "attr "
   ]
  },
  {
   "cell_type": "code",
   "execution_count": 18,
   "metadata": {},
   "outputs": [
    {
     "data": {
      "text/plain": [
       "int"
      ]
     },
     "execution_count": 18,
     "metadata": {},
     "output_type": "execute_result"
    }
   ],
   "source": [
    "type(attr)"
   ]
  },
  {
   "cell_type": "markdown",
   "metadata": {},
   "source": []
  },
  {
   "cell_type": "code",
   "execution_count": 20,
   "metadata": {},
   "outputs": [
    {
     "data": {
      "text/plain": [
       "os.stat_result"
      ]
     },
     "execution_count": 20,
     "metadata": {},
     "output_type": "execute_result"
    }
   ],
   "source": [
    "import os \n",
    "statinfo = os.stat(filepath)\n",
    "type(statinfo)"
   ]
  },
  {
   "cell_type": "code",
   "execution_count": 22,
   "metadata": {},
   "outputs": [
    {
     "data": {
      "text/plain": [
       "os.stat_result(st_mode=33206, st_ino=40532396646485471, st_dev=1330931146378884319, st_nlink=1, st_uid=0, st_gid=0, st_size=3122101, st_atime=1722316683, st_mtime=1722316683, st_ctime=1722316680)"
      ]
     },
     "execution_count": 22,
     "metadata": {},
     "output_type": "execute_result"
    }
   ],
   "source": [
    "statinfo"
   ]
  },
  {
   "cell_type": "code",
   "execution_count": 23,
   "metadata": {},
   "outputs": [
    {
     "data": {
      "text/plain": [
       "32"
      ]
     },
     "execution_count": 23,
     "metadata": {},
     "output_type": "execute_result"
    }
   ],
   "source": [
    "statinfo.st_file_attributes "
   ]
  },
  {
   "cell_type": "code",
   "execution_count": 27,
   "metadata": {},
   "outputs": [
    {
     "data": {
      "text/plain": [
       "1"
      ]
     },
     "execution_count": 27,
     "metadata": {},
     "output_type": "execute_result"
    }
   ],
   "source": [
    "win32con.FILE_ATTRIBUTE_READONLY"
   ]
  },
  {
   "cell_type": "code",
   "execution_count": 34,
   "metadata": {},
   "outputs": [
    {
     "data": {
      "text/plain": [
       "['FILE_ATTRIBUTE_ARCHIVE',\n",
       " 'FILE_ATTRIBUTE_ATOMIC_WRITE',\n",
       " 'FILE_ATTRIBUTE_COMPRESSED',\n",
       " 'FILE_ATTRIBUTE_DEVICE',\n",
       " 'FILE_ATTRIBUTE_DIRECTORY',\n",
       " 'FILE_ATTRIBUTE_ENCRYPTED',\n",
       " 'FILE_ATTRIBUTE_HIDDEN',\n",
       " 'FILE_ATTRIBUTE_NORMAL',\n",
       " 'FILE_ATTRIBUTE_NOT_CONTENT_INDEXED',\n",
       " 'FILE_ATTRIBUTE_OFFLINE',\n",
       " 'FILE_ATTRIBUTE_READONLY',\n",
       " 'FILE_ATTRIBUTE_REPARSE_POINT',\n",
       " 'FILE_ATTRIBUTE_SPARSE_FILE',\n",
       " 'FILE_ATTRIBUTE_SYSTEM',\n",
       " 'FILE_ATTRIBUTE_TEMPORARY',\n",
       " 'FILE_ATTRIBUTE_VIRTUAL',\n",
       " 'FILE_ATTRIBUTE_XACTION_WRITE']"
      ]
     },
     "execution_count": 34,
     "metadata": {},
     "output_type": "execute_result"
    }
   ],
   "source": [
    "import re \n",
    "\n",
    "[a for a in dir(win32con) if re.search(r'FILE_ATTR', a)]"
   ]
  },
  {
   "cell_type": "code",
   "execution_count": 26,
   "metadata": {},
   "outputs": [],
   "source": [
    "win32api.SetFileAttributes(filepath, win32con.FILE_ATTRIBUTE_READONLY)"
   ]
  },
  {
   "cell_type": "code",
   "execution_count": null,
   "metadata": {},
   "outputs": [],
   "source": [
    "win32api.SetFileAttributes(filepath, win32con.FILE_ATTRIBUTE_READONLY)"
   ]
  },
  {
   "cell_type": "code",
   "execution_count": null,
   "metadata": {},
   "outputs": [],
   "source": []
  },
  {
   "cell_type": "code",
   "execution_count": null,
   "metadata": {},
   "outputs": [],
   "source": []
  },
  {
   "cell_type": "code",
   "execution_count": null,
   "metadata": {},
   "outputs": [],
   "source": []
  },
  {
   "cell_type": "code",
   "execution_count": null,
   "metadata": {},
   "outputs": [],
   "source": []
  },
  {
   "cell_type": "code",
   "execution_count": null,
   "metadata": {},
   "outputs": [],
   "source": []
  },
  {
   "cell_type": "code",
   "execution_count": null,
   "metadata": {},
   "outputs": [],
   "source": []
  },
  {
   "cell_type": "code",
   "execution_count": null,
   "metadata": {},
   "outputs": [],
   "source": []
  },
  {
   "cell_type": "code",
   "execution_count": null,
   "metadata": {},
   "outputs": [],
   "source": []
  },
  {
   "cell_type": "code",
   "execution_count": null,
   "metadata": {},
   "outputs": [],
   "source": []
  },
  {
   "cell_type": "code",
   "execution_count": null,
   "metadata": {},
   "outputs": [],
   "source": []
  },
  {
   "cell_type": "code",
   "execution_count": null,
   "metadata": {},
   "outputs": [],
   "source": []
  },
  {
   "cell_type": "code",
   "execution_count": null,
   "metadata": {},
   "outputs": [],
   "source": []
  }
 ],
 "metadata": {
  "kernelspec": {
   "display_name": ".env64",
   "language": "python",
   "name": "python3"
  },
  "language_info": {
   "codemirror_mode": {
    "name": "ipython",
    "version": 3
   },
   "file_extension": ".py",
   "mimetype": "text/x-python",
   "name": "python",
   "nbconvert_exporter": "python",
   "pygments_lexer": "ipython3",
   "version": "3.12.0"
  }
 },
 "nbformat": 4,
 "nbformat_minor": 2
}
