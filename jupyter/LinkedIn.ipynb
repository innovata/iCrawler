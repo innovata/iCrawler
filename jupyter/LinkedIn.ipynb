{
 "cells": [
  {
   "cell_type": "code",
   "execution_count": 1,
   "metadata": {},
   "outputs": [
    {
     "name": "stderr",
     "output_type": "stream",
     "text": [
      "2023-06-21 20:03:30,954 | INFO | [85984/MainProcess][11368/MainThread] | idebug.set_viewEnvType[159] | <ipylib.idebug.Debugger object at 0x000001A71EA8AB20> | 1 (1: print | 2: logger | 3: jupyter)\n"
     ]
    },
    {
     "name": "stdout",
     "output_type": "stream",
     "text": [
      "LogLevel: 10 (DEBUG) c:\\pypjts\\iCrawler\\CrawlEnv_py39_64bit\\lib\\site-packages\\ipylib\\idebug.py\n"
     ]
    }
   ],
   "source": [
    "from _jupyterEnv import *"
   ]
  },
  {
   "cell_type": "code",
   "execution_count": 18,
   "metadata": {},
   "outputs": [
    {
     "name": "stdout",
     "output_type": "stream",
     "text": [
      "<Response [401]>\n",
      "{ '_content': b'{\"error\":\"access_denied\",\"error_description\":\"This applicati'\n",
      "              b'on is not allowed to create application tokens\"}',\n",
      "  '_content_consumed': True,\n",
      "  '_next': None,\n",
      "  'connection': <requests.adapters.HTTPAdapter object at 0x000001A71EADC490>,\n",
      "  'cookies': <RequestsCookieJar[Cookie(version=0, name='bcookie', value='\"v=2&deb6bbe2-e9da-487e-8b3d-6c766dc7bc8f\"', port=None, port_specified=False, domain='.linkedin.com', domain_specified=True, domain_initial_dot=True, path='/', path_specified=True, secure=True, expires=1718884329, discard=False, comment=None, comment_url=None, rest={'SameSite': 'None'}, rfc2109=False), Cookie(version=0, name='lang', value='v=2&lang=en-us', port=None, port_specified=False, domain='.linkedin.com', domain_specified=True, domain_initial_dot=False, path='/', path_specified=True, secure=True, expires=None, discard=True, comment=None, comment_url=None, rest={'SameSite': 'None'}, rfc2109=False), Cookie(version=0, name='lidc', value='\"b=TGST03:s=T:r=T:a=T:p=T:g=2999:u=1:x=1:i=1687348329:t=1687434729:v=2:sig=AQHQ0Hb8wiYGzx4jBMysdqizKiQ9gn0F\"', port=None, port_specified=False, domain='.linkedin.com', domain_specified=True, domain_initial_dot=True, path='/', path_specified=True, secure=True, expires=1687434729, discard=False, comment=None, comment_url=None, rest={'SameSite': 'None'}, rfc2109=False), Cookie(version=0, name='bscookie', value='\"v=1&20230621115209749c2a61-be42-4498-8fdd-07430d67d68dAQGhv7fH_DDt8NXqZBp4qilJVfku7lii\"', port=None, port_specified=False, domain='.www.linkedin.com', domain_specified=True, domain_initial_dot=True, path='/', path_specified=True, secure=True, expires=1718884329, discard=False, comment=None, comment_url=None, rest={'HttpOnly': None, 'SameSite': 'None'}, rfc2109=False)]>,\n",
      "  'elapsed': datetime.timedelta(microseconds=249895),\n",
      "  'encoding': 'utf-8',\n",
      "  'headers': {'Cache-Control': 'no-cache, no-store', 'Pragma': 'no-cache', 'Content-Length': '108', 'Content-Type': 'application/json', 'Content-Encoding': 'gzip', 'Expires': 'Thu, 01 Jan 1970 00:00:00 GMT', 'Vary': 'Accept-Encoding', 'Set-Cookie': 'lang=v=2&lang=en-us; SameSite=None; Path=/; Domain=linkedin.com; Secure, lidc=\"b=TGST03:s=T:r=T:a=T:p=T:g=2999:u=1:x=1:i=1687348329:t=1687434729:v=2:sig=AQHQ0Hb8wiYGzx4jBMysdqizKiQ9gn0F\"; Expires=Thu, 22 Jun 2023 11:52:09 GMT; domain=.linkedin.com; Path=/; SameSite=None; Secure, bcookie=\"v=2&deb6bbe2-e9da-487e-8b3d-6c766dc7bc8f\"; domain=.linkedin.com; Path=/; Secure; Expires=Thu, 20-Jun-2024 11:52:09 GMT; SameSite=None, bscookie=\"v=1&20230621115209749c2a61-be42-4498-8fdd-07430d67d68dAQGhv7fH_DDt8NXqZBp4qilJVfku7lii\"; domain=.www.linkedin.com; Path=/; Secure; Expires=Thu, 20-Jun-2024 11:52:09 GMT; HttpOnly; SameSite=None', 'Strict-Transport-Security': 'max-age=31536000', 'X-Content-Type-Options': 'nosniff', 'X-Frame-Options': 'sameorigin', 'Content-Security-Policy': \"default-src *; connect-src 'self' *.licdn.com *.linkedin.com wss://*.linkedin.com dpm.demdex.net/id lnkd.demdex.net blob: accounts.google.com/gsi/ linkedin.sc.omtrdc.net/b/ss/ *.qualtrics.com *.adyen.com *.microsoft.com; img-src data: blob: *; font-src data: *; style-src 'unsafe-inline' 'self' static-src.linkedin.com *.licdn.com; script-src 'unsafe-inline' 'unsafe-eval' 'self' spdy.linkedin.com static-src.linkedin.com *.ads.linkedin.com *.licdn.com static.chartbeat.com bcvipva02.rightnowtech.com www.bizographics.com sjs.bizographics.com js.bizographics.com d.la4-c1-was.salesforceliveagent.com platform.linkedin.com platform-akam.linkedin.com platform-ecst.linkedin.com platform-azur.linkedin.com; script-src-attr 'report-sample' 'none'; object-src 'none'; media-src blob: *; worker-src 'self' blob: static.licdn.com static-exp1.licdn.com static-exp2.licdn.com static-exp3.licdn.com; frame-src blob: lnkd-communities: voyager: *; frame-ancestors 'self' *.linkedin.com teams.microsoft.com client.learningapp.microsoft.com; report-uri https://www.linkedin.com/security/csp?f=lt\", 'X-Li-Fabric': 'prod-ltx1', 'X-FS-UUID': '0005fea265d08af40923307580f58e53', 'X-Li-Pop': 'afd-prod-ltx1-x', 'X-Li-Proto': 'http/1.1', 'X-LI-UUID': 'AAX+omXQivQJIzB1gPWOUw==', 'X-Cache': 'CONFIG_NOCACHE', 'X-MSEdge-Ref': 'Ref A: DA5B4773AED74EFABEB62932E5E46051 Ref B: SLAEDGE1512 Ref C: 2023-06-21T11:52:09Z', 'Date': 'Wed, 21 Jun 2023 11:52:09 GMT'},\n",
      "  'history': [],\n",
      "  'raw': <urllib3.response.HTTPResponse object at 0x000001A71EAAB760>,\n",
      "  'reason': 'Unauthorized',\n",
      "  'request': <PreparedRequest [POST]>,\n",
      "  'status_code': 401,\n",
      "  'url': 'https://www.linkedin.com/oauth/v2/accessToken'}\n",
      "{'Cache-Control': 'no-cache, no-store', 'Pragma': 'no-cache', 'Content-Length': '108', 'Content-Type': 'application/json', 'Content-Encoding': 'gzip', 'Expires': 'Thu, 01 Jan 1970 00:00:00 GMT', 'Vary': 'Accept-Encoding', 'Set-Cookie': 'lang=v=2&lang=en-us; SameSite=None; Path=/; Domain=linkedin.com; Secure, lidc=\"b=TGST03:s=T:r=T:a=T:p=T:g=2999:u=1:x=1:i=1687348329:t=1687434729:v=2:sig=AQHQ0Hb8wiYGzx4jBMysdqizKiQ9gn0F\"; Expires=Thu, 22 Jun 2023 11:52:09 GMT; domain=.linkedin.com; Path=/; SameSite=None; Secure, bcookie=\"v=2&deb6bbe2-e9da-487e-8b3d-6c766dc7bc8f\"; domain=.linkedin.com; Path=/; Secure; Expires=Thu, 20-Jun-2024 11:52:09 GMT; SameSite=None, bscookie=\"v=1&20230621115209749c2a61-be42-4498-8fdd-07430d67d68dAQGhv7fH_DDt8NXqZBp4qilJVfku7lii\"; domain=.www.linkedin.com; Path=/; Secure; Expires=Thu, 20-Jun-2024 11:52:09 GMT; HttpOnly; SameSite=None', 'Strict-Transport-Security': 'max-age=31536000', 'X-Content-Type-Options': 'nosniff', 'X-Frame-Options': 'sameorigin', 'Content-Security-Policy': \"default-src *; connect-src 'self' *.licdn.com *.linkedin.com wss://*.linkedin.com dpm.demdex.net/id lnkd.demdex.net blob: accounts.google.com/gsi/ linkedin.sc.omtrdc.net/b/ss/ *.qualtrics.com *.adyen.com *.microsoft.com; img-src data: blob: *; font-src data: *; style-src 'unsafe-inline' 'self' static-src.linkedin.com *.licdn.com; script-src 'unsafe-inline' 'unsafe-eval' 'self' spdy.linkedin.com static-src.linkedin.com *.ads.linkedin.com *.licdn.com static.chartbeat.com bcvipva02.rightnowtech.com www.bizographics.com sjs.bizographics.com js.bizographics.com d.la4-c1-was.salesforceliveagent.com platform.linkedin.com platform-akam.linkedin.com platform-ecst.linkedin.com platform-azur.linkedin.com; script-src-attr 'report-sample' 'none'; object-src 'none'; media-src blob: *; worker-src 'self' blob: static.licdn.com static-exp1.licdn.com static-exp2.licdn.com static-exp3.licdn.com; frame-src blob: lnkd-communities: voyager: *; frame-ancestors 'self' *.linkedin.com teams.microsoft.com client.learningapp.microsoft.com; report-uri https://www.linkedin.com/security/csp?f=lt\", 'X-Li-Fabric': 'prod-ltx1', 'X-FS-UUID': '0005fea265d08af40923307580f58e53', 'X-Li-Pop': 'afd-prod-ltx1-x', 'X-Li-Proto': 'http/1.1', 'X-LI-UUID': 'AAX+omXQivQJIzB1gPWOUw==', 'X-Cache': 'CONFIG_NOCACHE', 'X-MSEdge-Ref': 'Ref A: DA5B4773AED74EFABEB62932E5E46051 Ref B: SLAEDGE1512 Ref C: 2023-06-21T11:52:09Z', 'Date': 'Wed, 21 Jun 2023 11:52:09 GMT'}\n",
      "{\"error\":\"access_denied\",\"error_description\":\"This application is not allowed to create application tokens\"}\n"
     ]
    }
   ],
   "source": [
    "reload_all()\n",
    "linkedin.req()"
   ]
  },
  {
   "cell_type": "code",
   "execution_count": null,
   "metadata": {},
   "outputs": [],
   "source": []
  }
 ],
 "metadata": {
  "kernelspec": {
   "display_name": "CrawlEnv_py39_64bit",
   "language": "python",
   "name": "python3"
  },
  "language_info": {
   "codemirror_mode": {
    "name": "ipython",
    "version": 3
   },
   "file_extension": ".py",
   "mimetype": "text/x-python",
   "name": "python",
   "nbconvert_exporter": "python",
   "pygments_lexer": "ipython3",
   "version": "3.9.2"
  },
  "orig_nbformat": 4
 },
 "nbformat": 4,
 "nbformat_minor": 2
}
