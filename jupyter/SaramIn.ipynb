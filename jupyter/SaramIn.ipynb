{
 "cells": [
  {
   "cell_type": "code",
   "execution_count": null,
   "metadata": {},
   "outputs": [],
   "source": [
    "from _jupyterEnv import *"
   ]
  },
  {
   "cell_type": "code",
   "execution_count": null,
   "metadata": {},
   "outputs": [],
   "source": [
    "import os\n",
    "os.environ['SARAMIN_CREDENTIAL_PATH'] = 'C:\\pypjts\\iCrawler\\Credentials\\saramin.json'\n",
    "\n",
    "reload_all()\n",
    "saramin.access_key()"
   ]
  },
  {
   "cell_type": "code",
   "execution_count": null,
   "metadata": {},
   "outputs": [],
   "source": [
    "reload_all()\n",
    "url = 'https://www.saramin.co.kr/zf_user/jobs/relay/view?isMypage=no&rec_idx=45630838&recommend_ids=eJxNj7sVwzAMA6dJDxLir84g2X%2BLUJItu9O9g0hwOKgw%2F6XoJ77DSgzaqDVRSxhubbFtSmQ2LjuSYVWNvi29pO6wI0nK81cDNkfJZT3ksWkc0EZuBII4NqCZehZFdDM%2F4cJw8rZ9kUTJ06o7O8%2BBWeVrkV7hGqvGGuUC6eerJMDZWf9lJkAt&view_type=scrap&gz=1&t_ref_content=generic&t_ref=scrap&immediately_apply_layer_open=n#seq=0'\n",
    "id = saramin.get_id_from_url(url)\n",
    "id"
   ]
  },
  {
   "cell_type": "code",
   "execution_count": null,
   "metadata": {},
   "outputs": [],
   "source": [
    "reload_all()\n",
    "# js = saramin.JobSearchAPI(id=id)\n",
    "# js = saramin.JobSearchAPI()\n",
    "dic = saramin.JobSearchAPI(keywords='데이터 사이언티스트')\n",
    "dic"
   ]
  },
  {
   "cell_type": "code",
   "execution_count": null,
   "metadata": {},
   "outputs": [],
   "source": [
    "dic['jobs']['count']"
   ]
  },
  {
   "cell_type": "code",
   "execution_count": null,
   "metadata": {},
   "outputs": [],
   "source": [
    "reload_all()\n",
    "data = saramin.get_data(dic.copy())\n",
    "pp.pprint(data)"
   ]
  },
  {
   "cell_type": "code",
   "execution_count": null,
   "metadata": {},
   "outputs": [],
   "source": [
    "# data[0]"
   ]
  },
  {
   "cell_type": "code",
   "execution_count": 25,
   "metadata": {},
   "outputs": [
    {
     "name": "stderr",
     "output_type": "stream",
     "text": [
      "2023-07-23 22:13:42,474 | INFO | [95752/MainProcess][97432/MainThread] | mdb.search[23] | {'ResultLen': 2}\n"
     ]
    },
    {
     "data": {
      "text/plain": [
       "[{'url': 'http://www.saramin.co.kr/zf_user/jobs/relay/view?rec_idx=46177928&utm_source=job-search-api&utm_medium=api&utm_campaign=saramin-job-search-api',\n",
       "  'active': 1,\n",
       "  'company': {'detail': {'href': 'http://www.saramin.co.kr/zf_user/company-info/view?csn=1018109147&utm_source=job-search-api&utm_medium=api&utm_campaign=saramin-job-search-api',\n",
       "    'name': '현대자동차(주)'}},\n",
       "  'position': {'title': '[선행기술원] AI Data Scientist',\n",
       "   'industry': {'code': '202', 'name': '기계·설비·자동차'},\n",
       "   'location': {'code': '102190', 'name': '경기 &gt; 성남시 분당구'},\n",
       "   'job-type': {},\n",
       "   'job-mid-code': {'code': '2', 'name': 'IT개발·데이터'},\n",
       "   'job-code': {'code': '82,105,108,181',\n",
       "    'name': '자동차,데이터분석가,데이터라벨링,딥러닝,AI(인공지능)'},\n",
       "   'industry-keyword-code': '20212',\n",
       "   'job-code-keyword-code': '82,105,108,181',\n",
       "   'experience-level': {'code': 2, 'min': 5, 'max': 0, 'name': '경력5년↑'},\n",
       "   'required-education-level': {'code': '5', 'name': '박사졸업'}},\n",
       "  'keyword': '자동차',\n",
       "  'salary': {'code': '99', 'name': '면접후 결정'},\n",
       "  'id': '46177928',\n",
       "  'posting-timestamp': Timestamp('2023-07-19 11:12:19+0900', tz='대한민국 표준시'),\n",
       "  'posting-date': Timestamp('2023-07-19 11:12:19+0900', tz='대한민국 표준시'),\n",
       "  'modification-timestamp': Timestamp('2023-07-19 14:28:35+0900', tz='대한민국 표준시'),\n",
       "  'opening-timestamp': Timestamp('2023-05-26 09:00:00+0900', tz='대한민국 표준시'),\n",
       "  'expiration-timestamp': Timestamp('2023-07-31 23:59:59+0900', tz='대한민국 표준시'),\n",
       "  'expiration-date': Timestamp('2023-07-31 23:59:59+0900', tz='대한민국 표준시'),\n",
       "  'close-type': {'code': '1', 'name': '접수마감일'},\n",
       "  'read-cnt': 28,\n",
       "  'apply-cnt': 0},\n",
       " {'url': 'http://www.saramin.co.kr/zf_user/jobs/relay/view?rec_idx=46117990&utm_source=job-search-api&utm_medium=api&utm_campaign=saramin-job-search-api',\n",
       "  'active': 1,\n",
       "  'company': {'detail': {'href': 'http://www.saramin.co.kr/zf_user/company-info/view?csn=1018109147&utm_source=job-search-api&utm_medium=api&utm_campaign=saramin-job-search-api',\n",
       "    'name': '현대자동차(주)'}},\n",
       "  'position': {'title': '[TaaS] Data Scientist',\n",
       "   'industry': {'code': '202', 'name': '기계·설비·자동차'},\n",
       "   'location': {'code': '101010', 'name': '서울 &gt; 강남구'},\n",
       "   'job-type': {},\n",
       "   'job-mid-code': {'code': '2', 'name': 'IT개발·데이터'},\n",
       "   'job-code': {'code': '82,106,107,109,122,206,272',\n",
       "    'name': '자동차,데이터분석가,데이터마이닝,데이터시각화,머신러닝,알고리즘,C언어,Python'},\n",
       "   'industry-keyword-code': '20212',\n",
       "   'job-code-keyword-code': '82,106,107,109,122,206,272',\n",
       "   'experience-level': {'code': 2, 'min': 0, 'max': 0, 'name': '경력'},\n",
       "   'required-education-level': {'code': '8', 'name': '대학교졸업(4년)이상'}},\n",
       "  'keyword': '자동차',\n",
       "  'salary': {'code': '99', 'name': '면접후 결정'},\n",
       "  'id': '46117990',\n",
       "  'posting-timestamp': Timestamp('2023-07-11 11:06:11+0900', tz='대한민국 표준시'),\n",
       "  'posting-date': Timestamp('2023-07-11 11:06:11+0900', tz='대한민국 표준시'),\n",
       "  'modification-timestamp': Timestamp('2023-07-11 13:24:07+0900', tz='대한민국 표준시'),\n",
       "  'opening-timestamp': Timestamp('2022-10-28 08:00:00+0900', tz='대한민국 표준시'),\n",
       "  'expiration-timestamp': Timestamp('2023-07-31 23:59:59+0900', tz='대한민국 표준시'),\n",
       "  'expiration-date': Timestamp('2023-07-31 23:59:59+0900', tz='대한민국 표준시'),\n",
       "  'close-type': {'code': '1', 'name': '접수마감일'},\n",
       "  'read-cnt': 181,\n",
       "  'apply-cnt': 0}]"
      ]
     },
     "execution_count": 25,
     "metadata": {},
     "output_type": "execute_result"
    }
   ],
   "source": [
    "reload_all()\n",
    "db = mdb.MemoryDB(data)\n",
    "# db.get_frame()\n",
    "db.search(\n",
    "    # id='46177928',\n",
    "    keyword='자동차'\n",
    ")\n"
   ]
  },
  {
   "cell_type": "code",
   "execution_count": null,
   "metadata": {},
   "outputs": [],
   "source": []
  },
  {
   "cell_type": "code",
   "execution_count": null,
   "metadata": {},
   "outputs": [],
   "source": [
    "reload_all()\n",
    "d = saramin.collect_codeTables()"
   ]
  },
  {
   "cell_type": "code",
   "execution_count": null,
   "metadata": {},
   "outputs": [],
   "source": [
    "# d"
   ]
  },
  {
   "cell_type": "code",
   "execution_count": null,
   "metadata": {},
   "outputs": [],
   "source": [
    "list(d)"
   ]
  },
  {
   "cell_type": "code",
   "execution_count": null,
   "metadata": {},
   "outputs": [],
   "source": [
    "d['공공/복지']"
   ]
  },
  {
   "cell_type": "code",
   "execution_count": null,
   "metadata": {},
   "outputs": [],
   "source": [
    "reload_all()\n",
    "# driver = saramin.get_driver()\n",
    "\n",
    "browser = saramin.SaramInBrowser()"
   ]
  },
  {
   "cell_type": "code",
   "execution_count": 24,
   "metadata": {},
   "outputs": [],
   "source": [
    "reload_all()\n",
    "saramin.login(browser.driver)"
   ]
  },
  {
   "cell_type": "code",
   "execution_count": null,
   "metadata": {},
   "outputs": [],
   "source": [
    "url = data[1]['url']\n",
    "url"
   ]
  },
  {
   "cell_type": "code",
   "execution_count": null,
   "metadata": {},
   "outputs": [],
   "source": [
    "reload_all()\n",
    "\n",
    "csn = 'ZERQYWsweXJIQjRrU2ZEYVhKMGF1dz09'\n",
    "saramin.goto_companySalaryPage(browser.driver, csn)\n",
    "# saramin.goto_companyInfoPage(browser.driver, csn)"
   ]
  },
  {
   "cell_type": "code",
   "execution_count": null,
   "metadata": {},
   "outputs": [],
   "source": [
    "reload_all()\n",
    "# saramin.goto_jobPost(browser.driver, url)\n",
    "page = saramin.JobPostPage(browser.driver)\n",
    "pp.pprint(page.__dict__)\n",
    "\n",
    "# page._get_btn()\n",
    "# page.goto_salary_page()\n",
    "# page.goto_companyInfo_page()\n",
    "# page.parse()"
   ]
  },
  {
   "cell_type": "code",
   "execution_count": null,
   "metadata": {},
   "outputs": [],
   "source": [
    "page.refresh()"
   ]
  },
  {
   "cell_type": "markdown",
   "metadata": {},
   "source": []
  },
  {
   "cell_type": "code",
   "execution_count": null,
   "metadata": {},
   "outputs": [],
   "source": [
    "page._setup_csn()"
   ]
  },
  {
   "cell_type": "code",
   "execution_count": null,
   "metadata": {},
   "outputs": [],
   "source": [
    "reload_all()\n",
    "page = saramin.CompanySalaryPage(browser.driver)\n",
    "pp.pprint(page.__dict__)\n",
    "# page.salary_info_reliability()\n",
    "# page.fresh_man_salary()\n",
    "# page.cascade_salary()\n",
    "page.parse()"
   ]
  },
  {
   "cell_type": "code",
   "execution_count": null,
   "metadata": {},
   "outputs": [],
   "source": [
    "reload_all()\n",
    "page = saramin.CompanyIntroPage(browser.driver)\n",
    "pp.pprint(page.__dict__)\n",
    "page.parse()"
   ]
  },
  {
   "cell_type": "code",
   "execution_count": null,
   "metadata": {},
   "outputs": [],
   "source": [
    "reload_all()\n",
    "# saramin.parse_money_n_unit('33억 4,015만원')\n",
    "csn = 'ZERQYWsweXJIQjRrU2ZEYVhKMGF1dz09'\n",
    "saramin.get_company_data(browser.driver, csn)"
   ]
  },
  {
   "cell_type": "code",
   "execution_count": null,
   "metadata": {},
   "outputs": [],
   "source": []
  }
 ],
 "metadata": {
  "kernelspec": {
   "display_name": "CrawlEnv_py39_64bit",
   "language": "python",
   "name": "python3"
  },
  "language_info": {
   "codemirror_mode": {
    "name": "ipython",
    "version": 3
   },
   "file_extension": ".py",
   "mimetype": "text/x-python",
   "name": "python",
   "nbconvert_exporter": "python",
   "pygments_lexer": "ipython3",
   "version": "3.9.2"
  },
  "orig_nbformat": 4
 },
 "nbformat": 4,
 "nbformat_minor": 2
}
