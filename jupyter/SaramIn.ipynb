{
 "cells": [
  {
   "cell_type": "code",
   "execution_count": null,
   "metadata": {},
   "outputs": [],
   "source": [
    "from _jupyterEnv import *"
   ]
  },
  {
   "cell_type": "code",
   "execution_count": null,
   "metadata": {},
   "outputs": [],
   "source": [
    "import os\n",
    "os.environ['SARAMIN_CREDENTIAL_PATH'] = 'C:\\pypjts\\iCrawler\\Credentials\\saramin.json'\n",
    "\n",
    "reload_all()\n",
    "saramin.access_key()"
   ]
  },
  {
   "cell_type": "code",
   "execution_count": null,
   "metadata": {},
   "outputs": [],
   "source": [
    "reload_all()\n",
    "url = 'https://www.saramin.co.kr/zf_user/jobs/relay/view?isMypage=no&rec_idx=45630838&recommend_ids=eJxNj7sVwzAMA6dJDxLir84g2X%2BLUJItu9O9g0hwOKgw%2F6XoJ77DSgzaqDVRSxhubbFtSmQ2LjuSYVWNvi29pO6wI0nK81cDNkfJZT3ksWkc0EZuBII4NqCZehZFdDM%2F4cJw8rZ9kUTJ06o7O8%2BBWeVrkV7hGqvGGuUC6eerJMDZWf9lJkAt&view_type=scrap&gz=1&t_ref_content=generic&t_ref=scrap&immediately_apply_layer_open=n#seq=0'\n",
    "id = saramin.get_id_from_url(url)\n",
    "id"
   ]
  },
  {
   "cell_type": "code",
   "execution_count": null,
   "metadata": {},
   "outputs": [],
   "source": [
    "reload_all()\n",
    "# js = saramin.JobSearchAPI(id=id)\n",
    "# js = saramin.JobSearchAPI()\n",
    "js = saramin.JobSearchAPI(keywords='데이터 사이언티스트')"
   ]
  },
  {
   "cell_type": "code",
   "execution_count": null,
   "metadata": {},
   "outputs": [],
   "source": [
    "# js"
   ]
  },
  {
   "cell_type": "code",
   "execution_count": null,
   "metadata": {},
   "outputs": [],
   "source": [
    "reload_all()\n",
    "data = saramin.get_data(js.copy())\n",
    "pp.pprint(data)"
   ]
  },
  {
   "cell_type": "code",
   "execution_count": null,
   "metadata": {},
   "outputs": [],
   "source": [
    "data[0]"
   ]
  },
  {
   "cell_type": "code",
   "execution_count": null,
   "metadata": {},
   "outputs": [],
   "source": [
    "reload_all()\n",
    "d = saramin.collect_codeTables()"
   ]
  },
  {
   "cell_type": "code",
   "execution_count": null,
   "metadata": {},
   "outputs": [],
   "source": [
    "# d"
   ]
  },
  {
   "cell_type": "code",
   "execution_count": null,
   "metadata": {},
   "outputs": [],
   "source": [
    "list(d)"
   ]
  },
  {
   "cell_type": "code",
   "execution_count": null,
   "metadata": {},
   "outputs": [],
   "source": [
    "d['공공/복지']"
   ]
  },
  {
   "cell_type": "code",
   "execution_count": null,
   "metadata": {},
   "outputs": [],
   "source": [
    "reload_all()\n",
    "# driver = saramin.get_driver()\n",
    "\n",
    "browser = saramin.SeleniumBrowser()"
   ]
  },
  {
   "cell_type": "code",
   "execution_count": null,
   "metadata": {},
   "outputs": [],
   "source": [
    "data[0]['url']"
   ]
  },
  {
   "cell_type": "code",
   "execution_count": null,
   "metadata": {},
   "outputs": [],
   "source": [
    "reload_all()\n",
    "saramin.go_to_posting(browser.driver, data[0]['url'])"
   ]
  },
  {
   "cell_type": "code",
   "execution_count": null,
   "metadata": {},
   "outputs": [],
   "source": [
    "reload_all()\n",
    "# saramin.parse_page(browser.driver)\n",
    "page = saramin.JobPostPage(browser.driver)\n",
    "pp.pprint(page.__dict__)\n",
    "# page._get_btn()\n",
    "# page.goto_salary_page()\n",
    "# page.goto_companyInfo_page()\n",
    "# page.parse()"
   ]
  },
  {
   "cell_type": "code",
   "execution_count": null,
   "metadata": {},
   "outputs": [],
   "source": [
    "page.refresh()"
   ]
  },
  {
   "cell_type": "markdown",
   "metadata": {},
   "source": []
  },
  {
   "cell_type": "code",
   "execution_count": null,
   "metadata": {},
   "outputs": [],
   "source": [
    "page._setup_csn()"
   ]
  },
  {
   "cell_type": "code",
   "execution_count": null,
   "metadata": {},
   "outputs": [],
   "source": [
    "reload_all()\n",
    "page = saramin.CompanySalaryPage(browser.driver)\n",
    "pp.pprint(page.__dict__)\n",
    "page.salary_info_reliability()"
   ]
  },
  {
   "cell_type": "code",
   "execution_count": null,
   "metadata": {},
   "outputs": [],
   "source": []
  }
 ],
 "metadata": {
  "kernelspec": {
   "display_name": "CrawlEnv_py39_64bit",
   "language": "python",
   "name": "python3"
  },
  "language_info": {
   "codemirror_mode": {
    "name": "ipython",
    "version": 3
   },
   "file_extension": ".py",
   "mimetype": "text/x-python",
   "name": "python",
   "nbconvert_exporter": "python",
   "pygments_lexer": "ipython3",
   "version": "3.9.2"
  },
  "orig_nbformat": 4
 },
 "nbformat": 4,
 "nbformat_minor": 2
}
