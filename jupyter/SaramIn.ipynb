{
 "cells": [
  {
   "cell_type": "code",
   "execution_count": 1,
   "metadata": {},
   "outputs": [
    {
     "name": "stderr",
     "output_type": "stream",
     "text": [
      "2023-06-21 18:12:25,383 | INFO | [68324/MainProcess][84460/MainThread] | idebug.set_viewEnvType[159] | <ipylib.idebug.Debugger object at 0x000002806869DA60> | 1 (1: print | 2: logger | 3: jupyter)\n"
     ]
    },
    {
     "name": "stdout",
     "output_type": "stream",
     "text": [
      "LogLevel: 10 (DEBUG) c:\\pypjts\\iCrawler\\CrawlEnv_py39_64bit\\lib\\site-packages\\ipylib\\idebug.py\n"
     ]
    }
   ],
   "source": [
    "from _jupyterEnv import *"
   ]
  },
  {
   "cell_type": "code",
   "execution_count": null,
   "metadata": {},
   "outputs": [],
   "source": []
  }
 ],
 "metadata": {
  "kernelspec": {
   "display_name": "CrawlEnv_py39_64bit",
   "language": "python",
   "name": "python3"
  },
  "language_info": {
   "codemirror_mode": {
    "name": "ipython",
    "version": 3
   },
   "file_extension": ".py",
   "mimetype": "text/x-python",
   "name": "python",
   "nbconvert_exporter": "python",
   "pygments_lexer": "ipython3",
   "version": "3.9.2"
  },
  "orig_nbformat": 4
 },
 "nbformat": 4,
 "nbformat_minor": 2
}
