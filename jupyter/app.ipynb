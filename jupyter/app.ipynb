{
 "cells": [
  {
   "cell_type": "markdown",
   "metadata": {},
   "source": [
    "# iCrawler Application by Jupyter Notebook\n",
    "1. Youtube  \n",
    "2. Instagram  "
   ]
  },
  {
   "cell_type": "markdown",
   "metadata": {},
   "source": [
    "# Setup Environment"
   ]
  },
  {
   "cell_type": "code",
   "execution_count": null,
   "metadata": {},
   "outputs": [],
   "source": [
    "# !pip install pytubefix"
   ]
  },
  {
   "cell_type": "code",
   "execution_count": null,
   "metadata": {},
   "outputs": [],
   "source": [
    "# !pip install moviepy "
   ]
  },
  {
   "cell_type": "code",
   "execution_count": 3,
   "metadata": {},
   "outputs": [],
   "source": [
    "# !pip install FFmpeg-python"
   ]
  },
  {
   "cell_type": "markdown",
   "metadata": {},
   "source": [
    "# 패키지/모듈 로딩"
   ]
  },
  {
   "cell_type": "code",
   "execution_count": 4,
   "metadata": {},
   "outputs": [],
   "source": [
    "import sys \n",
    "sys.path.append(\"D:\\pypjts\\iCrawler\\src\")"
   ]
  },
  {
   "cell_type": "code",
   "execution_count": 5,
   "metadata": {},
   "outputs": [
    {
     "data": {
      "text/plain": [
       "<module 'ipycrawl.crawlers.youtube.pytubefix' from 'D:\\\\pypjts\\\\iCrawler\\\\src\\\\ipycrawl\\\\crawlers\\\\youtube\\\\pytubefix.py'>"
      ]
     },
     "execution_count": 5,
     "metadata": {},
     "output_type": "execute_result"
    }
   ],
   "source": [
    "import pprint \n",
    "pp = pprint.PrettyPrinter(indent=2)\n",
    "import os \n",
    "from importlib import reload\n",
    "\n",
    "from ipycrawl.crawlers.youtube import pytubefix \n",
    "reload(pytubefix)"
   ]
  },
  {
   "cell_type": "markdown",
   "metadata": {},
   "source": [
    "# YOUTUBE"
   ]
  },
  {
   "cell_type": "code",
   "execution_count": 10,
   "metadata": {},
   "outputs": [
    {
     "name": "stdout",
     "output_type": "stream",
     "text": [
      "Title: 내각제 개헌세력과 권력투쟁\n"
     ]
    },
    {
     "ename": "VideoUnavailable",
     "evalue": "\u001b[91mZcvzYpzh0ZY is unavailable\u001b[0m",
     "output_type": "error",
     "traceback": [
      "\u001b[1;31m---------------------------------------------------------------------------\u001b[0m",
      "\u001b[1;31mVideoUnavailable\u001b[0m                          Traceback (most recent call last)",
      "Cell \u001b[1;32mIn[10], line 3\u001b[0m\n\u001b[0;32m      1\u001b[0m reload(pytubefix)\n\u001b[1;32m----> 3\u001b[0m \u001b[43mpytubefix\u001b[49m\u001b[38;5;241;43m.\u001b[39;49m\u001b[43mdownload_video\u001b[49m\u001b[43m(\u001b[49m\n\u001b[0;32m      4\u001b[0m \u001b[43m    \u001b[49m\u001b[38;5;124;43m\"\u001b[39;49m\u001b[38;5;124;43mhttps://youtu.be/ZcvzYpzh0ZY?feature=shared\u001b[39;49m\u001b[38;5;124;43m\"\u001b[39;49m\u001b[43m,\u001b[49m\n\u001b[0;32m      5\u001b[0m \u001b[43m    \u001b[49m\u001b[38;5;66;43;03m# _dir=\"C:\\\\Users\\\\innovata\\\\Downloads\"\u001b[39;49;00m\n\u001b[0;32m      6\u001b[0m \u001b[43m    \u001b[49m\u001b[43m_dir\u001b[49m\u001b[38;5;241;43m=\u001b[39;49m\u001b[38;5;124;43m\"\u001b[39;49m\u001b[38;5;124;43mD:\u001b[39;49m\u001b[38;5;130;43;01m\\\\\u001b[39;49;00m\u001b[38;5;124;43mLatinDanceData\u001b[39;49m\u001b[38;5;130;43;01m\\\\\u001b[39;49;00m\u001b[38;5;124;43mBachata_Demos\u001b[39;49m\u001b[38;5;130;43;01m\\\\\u001b[39;49;00m\u001b[38;5;124;43mTemp\u001b[39;49m\u001b[38;5;124;43m\"\u001b[39;49m\n\u001b[0;32m      7\u001b[0m \u001b[43m)\u001b[49m\n",
      "File \u001b[1;32mD:\\pypjts\\iCrawler\\src\\ipycrawl\\crawlers\\youtube\\pytubefix.py:30\u001b[0m, in \u001b[0;36mdownload_video\u001b[1;34m(url, _dir)\u001b[0m\n\u001b[0;32m     26\u001b[0m \u001b[38;5;28mprint\u001b[39m(\u001b[38;5;124m'\u001b[39m\u001b[38;5;124mTitle:\u001b[39m\u001b[38;5;124m'\u001b[39m, yt\u001b[38;5;241m.\u001b[39mtitle)\n\u001b[0;32m     29\u001b[0m \u001b[38;5;66;03m# 비디오파일 다운로드(오디오 없음) (360p 만 오디오까지 한번에 있기 때문에...)\u001b[39;00m\n\u001b[1;32m---> 30\u001b[0m stream \u001b[38;5;241m=\u001b[39m \u001b[43mselect_highest_resolution\u001b[49m\u001b[43m(\u001b[49m\u001b[43myt\u001b[49m\u001b[43m)\u001b[49m\n\u001b[0;32m     31\u001b[0m \u001b[38;5;28;01mif\u001b[39;00m stream \u001b[38;5;129;01mis\u001b[39;00m \u001b[38;5;28;01mNone\u001b[39;00m:\n\u001b[0;32m     32\u001b[0m     \u001b[38;5;28mprint\u001b[39m(\u001b[38;5;124m\"\u001b[39m\u001b[38;5;124mERROR | 원하는 고해상도 영상은 없다.\u001b[39m\u001b[38;5;124m\"\u001b[39m)\n",
      "File \u001b[1;32mD:\\pypjts\\iCrawler\\src\\ipycrawl\\crawlers\\youtube\\pytubefix.py:74\u001b[0m, in \u001b[0;36mselect_highest_resolution\u001b[1;34m(yt)\u001b[0m\n\u001b[0;32m     72\u001b[0m resolutions \u001b[38;5;241m=\u001b[39m [\u001b[38;5;124m'\u001b[39m\u001b[38;5;124m1080p\u001b[39m\u001b[38;5;124m'\u001b[39m,\u001b[38;5;124m'\u001b[39m\u001b[38;5;124m720p\u001b[39m\u001b[38;5;124m'\u001b[39m]\n\u001b[0;32m     73\u001b[0m \u001b[38;5;28;01mfor\u001b[39;00m res \u001b[38;5;129;01min\u001b[39;00m resolutions:\n\u001b[1;32m---> 74\u001b[0m     streams \u001b[38;5;241m=\u001b[39m \u001b[43myt\u001b[49m\u001b[38;5;241;43m.\u001b[39;49m\u001b[43mstreams\u001b[49m\u001b[38;5;241m.\u001b[39mfilter(file_extension\u001b[38;5;241m=\u001b[39m\u001b[38;5;124m'\u001b[39m\u001b[38;5;124mmp4\u001b[39m\u001b[38;5;124m'\u001b[39m, resolution\u001b[38;5;241m=\u001b[39mres)\n\u001b[0;32m     75\u001b[0m     \u001b[38;5;28;01mif\u001b[39;00m \u001b[38;5;28mlen\u001b[39m(streams) \u001b[38;5;241m>\u001b[39m \u001b[38;5;241m0\u001b[39m:\n\u001b[0;32m     76\u001b[0m         \u001b[38;5;28;01mreturn\u001b[39;00m streams[\u001b[38;5;241m0\u001b[39m]\n",
      "File \u001b[1;32md:\\pypjts\\iCrawler\\.env64\\lib\\site-packages\\pytubefix\\__main__.py:552\u001b[0m, in \u001b[0;36mYouTube.streams\u001b[1;34m(self)\u001b[0m\n\u001b[0;32m    546\u001b[0m \u001b[38;5;129m@property\u001b[39m\n\u001b[0;32m    547\u001b[0m \u001b[38;5;28;01mdef\u001b[39;00m \u001b[38;5;21mstreams\u001b[39m(\u001b[38;5;28mself\u001b[39m) \u001b[38;5;241m-\u001b[39m\u001b[38;5;241m>\u001b[39m StreamQuery:\n\u001b[0;32m    548\u001b[0m \u001b[38;5;250m    \u001b[39m\u001b[38;5;124;03m\"\"\"Interface to query both adaptive (DASH) and progressive streams.\u001b[39;00m\n\u001b[0;32m    549\u001b[0m \n\u001b[0;32m    550\u001b[0m \u001b[38;5;124;03m    :rtype: :class:`StreamQuery <StreamQuery>`.\u001b[39;00m\n\u001b[0;32m    551\u001b[0m \u001b[38;5;124;03m    \"\"\"\u001b[39;00m\n\u001b[1;32m--> 552\u001b[0m     \u001b[38;5;28;43mself\u001b[39;49m\u001b[38;5;241;43m.\u001b[39;49m\u001b[43mcheck_availability\u001b[49m\u001b[43m(\u001b[49m\u001b[43m)\u001b[49m\n\u001b[0;32m    553\u001b[0m     \u001b[38;5;28;01mreturn\u001b[39;00m StreamQuery(\u001b[38;5;28mself\u001b[39m\u001b[38;5;241m.\u001b[39mfmt_streams)\n",
      "File \u001b[1;32md:\\pypjts\\iCrawler\\.env64\\lib\\site-packages\\pytubefix\\__main__.py:302\u001b[0m, in \u001b[0;36mYouTube.check_availability\u001b[1;34m(self)\u001b[0m\n\u001b[0;32m    300\u001b[0m         \u001b[38;5;28;01mraise\u001b[39;00m exceptions\u001b[38;5;241m.\u001b[39mAgeCheckRequiredAccountError(video_id\u001b[38;5;241m=\u001b[39m\u001b[38;5;28mself\u001b[39m\u001b[38;5;241m.\u001b[39mvideo_id)\n\u001b[0;32m    301\u001b[0m     \u001b[38;5;28;01melse\u001b[39;00m:\n\u001b[1;32m--> 302\u001b[0m         \u001b[38;5;28;01mraise\u001b[39;00m exceptions\u001b[38;5;241m.\u001b[39mVideoUnavailable(video_id\u001b[38;5;241m=\u001b[39m\u001b[38;5;28mself\u001b[39m\u001b[38;5;241m.\u001b[39mvideo_id)\n\u001b[0;32m    304\u001b[0m \u001b[38;5;28;01melif\u001b[39;00m status \u001b[38;5;241m==\u001b[39m \u001b[38;5;124m'\u001b[39m\u001b[38;5;124mLOGIN_REQUIRED\u001b[39m\u001b[38;5;124m'\u001b[39m:\n\u001b[0;32m    305\u001b[0m     \u001b[38;5;28;01mif\u001b[39;00m reason \u001b[38;5;241m==\u001b[39m (\n\u001b[0;32m    306\u001b[0m             \u001b[38;5;124m'\u001b[39m\u001b[38;5;124mSign in to confirm your age\u001b[39m\u001b[38;5;124m'\u001b[39m\n\u001b[0;32m    307\u001b[0m     ):\n",
      "\u001b[1;31mVideoUnavailable\u001b[0m: \u001b[91mZcvzYpzh0ZY is unavailable\u001b[0m"
     ]
    }
   ],
   "source": [
    "reload(pytubefix)\n",
    "\n",
    "pytubefix.download_video(\n",
    "    \"https://youtu.be/ZcvzYpzh0ZY?feature=shared\",\n",
    "    # _dir=\"C:\\\\Users\\\\innovata\\\\Downloads\"\n",
    "    _dir=\"D:\\\\LatinDanceData\\\\Bachata_Demos\\\\Temp\"\n",
    ")"
   ]
  },
  {
   "cell_type": "code",
   "execution_count": 8,
   "metadata": {},
   "outputs": [
    {
     "name": "stdout",
     "output_type": "stream",
     "text": [
      "El Merengue (Bachata Version) - DJ Tronky & Manny Rod\n",
      "Bit Rate: 128kbps\n",
      "DONE | H:\\내 드라이브\\MEDIA_DRIVE\\Latin_Music\\Bachata\\El Merengue (Bachata Version) - DJ Tronky & Manny Rod_128kbps.mp3\n"
     ]
    },
    {
     "data": {
      "text/plain": [
       "'H:\\\\내 드라이브\\\\MEDIA_DRIVE\\\\Latin_Music\\\\Bachata\\\\El Merengue (Bachata Version) - DJ Tronky & Manny Rod_128kbps.mp3'"
      ]
     },
     "execution_count": 8,
     "metadata": {},
     "output_type": "execute_result"
    }
   ],
   "source": [
    "reload(pytubefix)\n",
    "\n",
    "pytubefix.download_audio(\n",
    "    \"https://youtu.be/d2posQX1E0E?feature=shared\",\n",
    "    # _dir=\"C:\\\\Users\\\\innovata\\\\Downloads\"\n",
    "    _dir=\"H:\\\\내 드라이브\\\\MEDIA_DRIVE\\\\Latin_Music\\\\Bachata\"\n",
    ")"
   ]
  },
  {
   "cell_type": "markdown",
   "metadata": {},
   "source": [
    "# INSTAGRAM"
   ]
  },
  {
   "cell_type": "code",
   "execution_count": null,
   "metadata": {},
   "outputs": [],
   "source": []
  },
  {
   "cell_type": "code",
   "execution_count": null,
   "metadata": {},
   "outputs": [],
   "source": []
  },
  {
   "cell_type": "code",
   "execution_count": null,
   "metadata": {},
   "outputs": [],
   "source": []
  },
  {
   "cell_type": "code",
   "execution_count": null,
   "metadata": {},
   "outputs": [],
   "source": []
  }
 ],
 "metadata": {
  "kernelspec": {
   "display_name": ".env64",
   "language": "python",
   "name": "python3"
  },
  "language_info": {
   "codemirror_mode": {
    "name": "ipython",
    "version": 3
   },
   "file_extension": ".py",
   "mimetype": "text/x-python",
   "name": "python",
   "nbconvert_exporter": "python",
   "pygments_lexer": "ipython3",
   "version": "3.9.2"
  }
 },
 "nbformat": 4,
 "nbformat_minor": 2
}
