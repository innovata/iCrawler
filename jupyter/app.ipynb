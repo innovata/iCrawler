{
 "cells": [
  {
   "cell_type": "markdown",
   "metadata": {},
   "source": [
    "# iCrawler Application by Jupyter Notebook\n",
    "1. Youtube  \n",
    "2. Instagram  "
   ]
  },
  {
   "cell_type": "markdown",
   "metadata": {},
   "source": [
    "# Setup Environment"
   ]
  },
  {
   "cell_type": "code",
   "execution_count": 1,
   "metadata": {},
   "outputs": [
    {
     "name": "stdout",
     "output_type": "stream",
     "text": [
      "Requirement already satisfied: pytubefix in d:\\pypjts\\icrawler\\.env64\\lib\\site-packages (6.6.3)\n"
     ]
    },
    {
     "name": "stderr",
     "output_type": "stream",
     "text": [
      "\n",
      "[notice] A new release of pip is available: 24.1.2 -> 24.2\n",
      "[notice] To update, run: python.exe -m pip install --upgrade pip\n"
     ]
    }
   ],
   "source": [
    "!pip install pytubefix"
   ]
  },
  {
   "cell_type": "code",
   "execution_count": 2,
   "metadata": {},
   "outputs": [
    {
     "name": "stdout",
     "output_type": "stream",
     "text": [
      "Requirement already satisfied: moviepy in d:\\pypjts\\icrawler\\.env64\\lib\\site-packages (1.0.3)"
     ]
    },
    {
     "name": "stderr",
     "output_type": "stream",
     "text": [
      "\n",
      "[notice] A new release of pip is available: 24.1.2 -> 24.2\n",
      "[notice] To update, run: python.exe -m pip install --upgrade pip\n"
     ]
    },
    {
     "name": "stdout",
     "output_type": "stream",
     "text": [
      "\n",
      "Requirement already satisfied: decorator<5.0,>=4.0.2 in d:\\pypjts\\icrawler\\.env64\\lib\\site-packages (from moviepy) (4.4.2)\n",
      "Requirement already satisfied: tqdm<5.0,>=4.11.2 in d:\\pypjts\\icrawler\\.env64\\lib\\site-packages (from moviepy) (4.66.4)\n",
      "Requirement already satisfied: requests<3.0,>=2.8.1 in d:\\pypjts\\icrawler\\.env64\\lib\\site-packages (from moviepy) (2.32.3)\n",
      "Requirement already satisfied: proglog<=1.0.0 in d:\\pypjts\\icrawler\\.env64\\lib\\site-packages (from moviepy) (0.1.10)\n",
      "Requirement already satisfied: numpy>=1.17.3 in d:\\pypjts\\icrawler\\.env64\\lib\\site-packages (from moviepy) (2.0.1)\n",
      "Requirement already satisfied: imageio<3.0,>=2.5 in d:\\pypjts\\icrawler\\.env64\\lib\\site-packages (from moviepy) (2.34.2)\n",
      "Requirement already satisfied: imageio-ffmpeg>=0.2.0 in d:\\pypjts\\icrawler\\.env64\\lib\\site-packages (from moviepy) (0.5.1)\n",
      "Requirement already satisfied: pillow>=8.3.2 in d:\\pypjts\\icrawler\\.env64\\lib\\site-packages (from imageio<3.0,>=2.5->moviepy) (10.4.0)\n",
      "Requirement already satisfied: setuptools in d:\\pypjts\\icrawler\\.env64\\lib\\site-packages (from imageio-ffmpeg>=0.2.0->moviepy) (49.2.1)\n",
      "Requirement already satisfied: charset-normalizer<4,>=2 in d:\\pypjts\\icrawler\\.env64\\lib\\site-packages (from requests<3.0,>=2.8.1->moviepy) (3.3.2)\n",
      "Requirement already satisfied: idna<4,>=2.5 in d:\\pypjts\\icrawler\\.env64\\lib\\site-packages (from requests<3.0,>=2.8.1->moviepy) (3.7)\n",
      "Requirement already satisfied: urllib3<3,>=1.21.1 in d:\\pypjts\\icrawler\\.env64\\lib\\site-packages (from requests<3.0,>=2.8.1->moviepy) (2.2.2)\n",
      "Requirement already satisfied: certifi>=2017.4.17 in d:\\pypjts\\icrawler\\.env64\\lib\\site-packages (from requests<3.0,>=2.8.1->moviepy) (2024.7.4)\n",
      "Requirement already satisfied: colorama in d:\\pypjts\\icrawler\\.env64\\lib\\site-packages (from tqdm<5.0,>=4.11.2->moviepy) (0.4.6)\n"
     ]
    }
   ],
   "source": [
    "!pip install moviepy "
   ]
  },
  {
   "cell_type": "code",
   "execution_count": 77,
   "metadata": {},
   "outputs": [
    {
     "name": "stdout",
     "output_type": "stream",
     "text": [
      "Collecting FFmpeg-python\n",
      "  Downloading ffmpeg_python-0.2.0-py3-none-any.whl.metadata (1.7 kB)\n",
      "Collecting future (from FFmpeg-python)\n",
      "  Downloading future-1.0.0-py3-none-any.whl.metadata (4.0 kB)\n",
      "Downloading ffmpeg_python-0.2.0-py3-none-any.whl (25 kB)\n",
      "Downloading future-1.0.0-py3-none-any.whl (491 kB)\n",
      "   ---------------------------------------- 0.0/491.3 kB ? eta -:--:--\n",
      "   ---------------------------------- ----- 419.8/491.3 kB 8.7 MB/s eta 0:00:01\n",
      "   ---------------------------------------- 491.3/491.3 kB 7.6 MB/s eta 0:00:00\n",
      "Installing collected packages: future, FFmpeg-python\n",
      "Successfully installed FFmpeg-python-0.2.0 future-1.0.0\n"
     ]
    }
   ],
   "source": [
    "!pip install FFmpeg-python"
   ]
  },
  {
   "cell_type": "markdown",
   "metadata": {},
   "source": [
    "# 패키지/모듈 로딩"
   ]
  },
  {
   "cell_type": "code",
   "execution_count": 1,
   "metadata": {},
   "outputs": [],
   "source": [
    "import sys \n",
    "sys.path.append(\"D:\\pypjts\\iCrawler\\src\")"
   ]
  },
  {
   "cell_type": "code",
   "execution_count": 2,
   "metadata": {},
   "outputs": [
    {
     "data": {
      "text/plain": [
       "<module 'ipycrawl.crawlers.youtube.pytubefix' from 'D:\\\\pypjts\\\\iCrawler\\\\src\\\\ipycrawl\\\\crawlers\\\\youtube\\\\pytubefix.py'>"
      ]
     },
     "execution_count": 2,
     "metadata": {},
     "output_type": "execute_result"
    }
   ],
   "source": [
    "import pprint \n",
    "pp = pprint.PrettyPrinter(indent=2)\n",
    "import os \n",
    "from importlib import reload\n",
    "\n",
    "from ipycrawl.crawlers.youtube import pytubefix \n",
    "reload(pytubefix)"
   ]
  },
  {
   "cell_type": "markdown",
   "metadata": {},
   "source": [
    "# YOUTUBE"
   ]
  },
  {
   "cell_type": "code",
   "execution_count": 3,
   "metadata": {},
   "outputs": [
    {
     "name": "stdout",
     "output_type": "stream",
     "text": [
      "Title: [버전2] GABRIELE ANALYSIS  MARCO & SARA  ONLY YOU - JOHNNY SKY\n",
      "Resolution: 1080p\n",
      "Downloading video...\n",
      "Bitrate: 128kbps████████████████████████████████| 100.0%\n",
      "Downloading audio...\n",
      "Merging video + audio...████████████████████████| 100.0%\n",
      "Moviepy - Running:\n",
      ">>> \"+ \" \".join(cmd)\n",
      "Moviepy - Command successful\n",
      "DONE | D:\\LatinDanceData\\Bachata_Demos\\Temp\\[버전2] GABRIELE ANALYSIS  MARCO & SARA  ONLY YOU - JOHNNY SKY_(1080p,128kbps).mp4\n"
     ]
    }
   ],
   "source": [
    "reload(pytubefix)\n",
    "\n",
    "pytubefix.download_video(\n",
    "    \"https://youtu.be/ehtd7I81Yc8\",\n",
    "    # _dir=\"C:\\\\Users\\\\innovata\\\\Downloads\"\n",
    "    _dir=\"D:\\\\LatinDanceData\\\\Bachata_Demos\\\\Temp\"\n",
    ")"
   ]
  },
  {
   "cell_type": "code",
   "execution_count": 8,
   "metadata": {},
   "outputs": [
    {
     "name": "stdout",
     "output_type": "stream",
     "text": [
      "El Merengue (Bachata Version) - DJ Tronky & Manny Rod\n",
      "Bit Rate: 128kbps\n",
      "DONE | H:\\내 드라이브\\MEDIA_DRIVE\\Latin_Music\\Bachata\\El Merengue (Bachata Version) - DJ Tronky & Manny Rod_128kbps.mp3\n"
     ]
    },
    {
     "data": {
      "text/plain": [
       "'H:\\\\내 드라이브\\\\MEDIA_DRIVE\\\\Latin_Music\\\\Bachata\\\\El Merengue (Bachata Version) - DJ Tronky & Manny Rod_128kbps.mp3'"
      ]
     },
     "execution_count": 8,
     "metadata": {},
     "output_type": "execute_result"
    }
   ],
   "source": [
    "reload(pytubefix)\n",
    "\n",
    "pytubefix.download_audio(\n",
    "    \"https://youtu.be/d2posQX1E0E?feature=shared\",\n",
    "    # _dir=\"C:\\\\Users\\\\innovata\\\\Downloads\"\n",
    "    _dir=\"H:\\\\내 드라이브\\\\MEDIA_DRIVE\\\\Latin_Music\\\\Bachata\"\n",
    ")"
   ]
  },
  {
   "cell_type": "markdown",
   "metadata": {},
   "source": [
    "# INSTAGRAM"
   ]
  },
  {
   "cell_type": "code",
   "execution_count": null,
   "metadata": {},
   "outputs": [],
   "source": []
  },
  {
   "cell_type": "code",
   "execution_count": null,
   "metadata": {},
   "outputs": [],
   "source": []
  },
  {
   "cell_type": "code",
   "execution_count": null,
   "metadata": {},
   "outputs": [],
   "source": []
  },
  {
   "cell_type": "code",
   "execution_count": null,
   "metadata": {},
   "outputs": [],
   "source": []
  }
 ],
 "metadata": {
  "kernelspec": {
   "display_name": ".env64",
   "language": "python",
   "name": "python3"
  },
  "language_info": {
   "codemirror_mode": {
    "name": "ipython",
    "version": 3
   },
   "file_extension": ".py",
   "mimetype": "text/x-python",
   "name": "python",
   "nbconvert_exporter": "python",
   "pygments_lexer": "ipython3",
   "version": "3.9.2"
  }
 },
 "nbformat": 4,
 "nbformat_minor": 2
}
