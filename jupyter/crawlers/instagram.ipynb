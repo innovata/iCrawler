{
 "cells": [
  {
   "cell_type": "markdown",
   "metadata": {},
   "source": [
    "# Selenium Driver 를 이용해서 다운로드 \n",
    "SSS Instagram Web Service  \n",
    "https://sssinstagram.com/  "
   ]
  },
  {
   "cell_type": "markdown",
   "metadata": {},
   "source": [
    "# Setup Environment\n",
    "References:  \n"
   ]
  },
  {
   "cell_type": "markdown",
   "metadata": {},
   "source": [
    "# 패키지/모듈 로딩"
   ]
  },
  {
   "cell_type": "code",
   "execution_count": 1,
   "metadata": {},
   "outputs": [],
   "source": [
    "import re \n",
    "from time import sleep\n",
    "\n",
    "from selenium import webdriver \n",
    "from selenium.webdriver.common.by import By\n",
    "from selenium.webdriver.common.keys import Keys\n",
    "from selenium.webdriver.support.wait import WebDriverWait\n",
    "from selenium.webdriver.support import expected_conditions as EC"
   ]
  },
  {
   "cell_type": "code",
   "execution_count": 2,
   "metadata": {},
   "outputs": [
    {
     "data": {
      "text/plain": [
       "<selenium.webdriver.chrome.webdriver.WebDriver (session=\"7f664f06ba67d74bb82be419434e223b\")>"
      ]
     },
     "execution_count": 2,
     "metadata": {},
     "output_type": "execute_result"
    }
   ],
   "source": [
    "driver = webdriver.Chrome()\n",
    "driver "
   ]
  },
  {
   "cell_type": "code",
   "execution_count": 19,
   "metadata": {},
   "outputs": [],
   "source": [
    "driver.get(\"https://sssinstagram.com/\")"
   ]
  },
  {
   "cell_type": "markdown",
   "metadata": {},
   "source": [
    "### 컨텐츠타입 입력"
   ]
  },
  {
   "cell_type": "code",
   "execution_count": 27,
   "metadata": {},
   "outputs": [
    {
     "name": "stdout",
     "output_type": "stream",
     "text": [
      "results: <selenium.webdriver.remote.webelement.WebElement (session=\"7f664f06ba67d74bb82be419434e223b\", element=\"f.F2FBCFF3E0A1C08F4411C95718CEFB6B.d.D12F9004DF1493893C1BAA5DD7246C5D.e.13306\")>\n"
     ]
    },
    {
     "ename": "NoSuchElementException",
     "evalue": "Message: no such element: Unable to locate element: {\"method\":\"link text\",\"selector\":\"Video\"}\n  (Session info: chrome=127.0.6533.120); For documentation on this error, please visit: https://www.selenium.dev/documentation/webdriver/troubleshooting/errors#no-such-element-exception\nStacktrace:\n\tGetHandleVerifier [0x00007FF7D9379642+30946]\n\t(No symbol) [0x00007FF7D932E3D9]\n\t(No symbol) [0x00007FF7D9226FDA]\n\t(No symbol) [0x00007FF7D927822C]\n\t(No symbol) [0x00007FF7D927850C]\n\t(No symbol) [0x00007FF7D926BCDC]\n\t(No symbol) [0x00007FF7D929CAAF]\n\t(No symbol) [0x00007FF7D926BBB6]\n\t(No symbol) [0x00007FF7D929CC80]\n\t(No symbol) [0x00007FF7D92BB041]\n\t(No symbol) [0x00007FF7D929C813]\n\t(No symbol) [0x00007FF7D926A6E5]\n\t(No symbol) [0x00007FF7D926B021]\n\tGetHandleVerifier [0x00007FF7D94AF84D+1301229]\n\tGetHandleVerifier [0x00007FF7D94BBDC7+1351783]\n\tGetHandleVerifier [0x00007FF7D94B2A13+1313971]\n\tGetHandleVerifier [0x00007FF7D93ADD16+245686]\n\t(No symbol) [0x00007FF7D933759F]\n\t(No symbol) [0x00007FF7D9333814]\n\t(No symbol) [0x00007FF7D93339A2]\n\t(No symbol) [0x00007FF7D932A3FF]\n\tBaseThreadInitThunk [0x00007FF924797374+20]\n\tRtlUserThreadStart [0x00007FF9266FCC91+33]\n",
     "output_type": "error",
     "traceback": [
      "\u001b[1;31m---------------------------------------------------------------------------\u001b[0m",
      "\u001b[1;31mNoSuchElementException\u001b[0m                    Traceback (most recent call last)",
      "Cell \u001b[1;32mIn[27], line 22\u001b[0m\n\u001b[0;32m      9\u001b[0m         \u001b[38;5;28mprint\u001b[39m(\u001b[38;5;124m'\u001b[39m\u001b[38;5;124ma:\u001b[39m\u001b[38;5;124m'\u001b[39m, a)\n\u001b[0;32m     11\u001b[0m         \u001b[38;5;66;03m# app = driver.find_element(By.ID, 'app')\u001b[39;00m\n\u001b[0;32m     12\u001b[0m         \u001b[38;5;66;03m# nav = app.find_element(By.CLASS_NAME, \"pageTunerWrapper\")\u001b[39;00m\n\u001b[0;32m     13\u001b[0m         \u001b[38;5;66;03m# print('nav:', nav)\u001b[39;00m\n\u001b[1;32m   (...)\u001b[0m\n\u001b[0;32m     18\u001b[0m         \u001b[38;5;66;03m# print('a:', a)\u001b[39;00m\n\u001b[0;32m     19\u001b[0m         \u001b[38;5;66;03m# a.click()\u001b[39;00m\n\u001b[1;32m---> 22\u001b[0m \u001b[43mselect_contents_type\u001b[49m\u001b[43m(\u001b[49m\u001b[38;5;124;43m'\u001b[39;49m\u001b[38;5;124;43mvideo\u001b[39;49m\u001b[38;5;124;43m'\u001b[39;49m\u001b[43m)\u001b[49m\n",
      "Cell \u001b[1;32mIn[27], line 8\u001b[0m, in \u001b[0;36mselect_contents_type\u001b[1;34m(type)\u001b[0m\n\u001b[0;32m      6\u001b[0m \u001b[38;5;28;01mfinally\u001b[39;00m:\n\u001b[0;32m      7\u001b[0m     \u001b[38;5;28mprint\u001b[39m(\u001b[38;5;124m'\u001b[39m\u001b[38;5;124mresults:\u001b[39m\u001b[38;5;124m'\u001b[39m, results)\n\u001b[1;32m----> 8\u001b[0m     a \u001b[38;5;241m=\u001b[39m \u001b[43mresults\u001b[49m\u001b[38;5;241;43m.\u001b[39;49m\u001b[43mfind_element\u001b[49m\u001b[43m(\u001b[49m\u001b[43mBy\u001b[49m\u001b[38;5;241;43m.\u001b[39;49m\u001b[43mLINK_TEXT\u001b[49m\u001b[43m,\u001b[49m\u001b[43m \u001b[49m\u001b[38;5;28;43mtype\u001b[39;49m\u001b[38;5;241;43m.\u001b[39;49m\u001b[43mcapitalize\u001b[49m\u001b[43m(\u001b[49m\u001b[43m)\u001b[49m\u001b[43m)\u001b[49m\n\u001b[0;32m      9\u001b[0m     \u001b[38;5;28mprint\u001b[39m(\u001b[38;5;124m'\u001b[39m\u001b[38;5;124ma:\u001b[39m\u001b[38;5;124m'\u001b[39m, a)\n",
      "File \u001b[1;32md:\\pypjts\\iCrawler\\.env64\\lib\\site-packages\\selenium\\webdriver\\remote\\webelement.py:417\u001b[0m, in \u001b[0;36mWebElement.find_element\u001b[1;34m(self, by, value)\u001b[0m\n\u001b[0;32m    414\u001b[0m     by \u001b[38;5;241m=\u001b[39m By\u001b[38;5;241m.\u001b[39mCSS_SELECTOR\n\u001b[0;32m    415\u001b[0m     value \u001b[38;5;241m=\u001b[39m \u001b[38;5;124mf\u001b[39m\u001b[38;5;124m'\u001b[39m\u001b[38;5;124m[name=\u001b[39m\u001b[38;5;124m\"\u001b[39m\u001b[38;5;132;01m{\u001b[39;00mvalue\u001b[38;5;132;01m}\u001b[39;00m\u001b[38;5;124m\"\u001b[39m\u001b[38;5;124m]\u001b[39m\u001b[38;5;124m'\u001b[39m\n\u001b[1;32m--> 417\u001b[0m \u001b[38;5;28;01mreturn\u001b[39;00m \u001b[38;5;28;43mself\u001b[39;49m\u001b[38;5;241;43m.\u001b[39;49m\u001b[43m_execute\u001b[49m\u001b[43m(\u001b[49m\u001b[43mCommand\u001b[49m\u001b[38;5;241;43m.\u001b[39;49m\u001b[43mFIND_CHILD_ELEMENT\u001b[49m\u001b[43m,\u001b[49m\u001b[43m \u001b[49m\u001b[43m{\u001b[49m\u001b[38;5;124;43m\"\u001b[39;49m\u001b[38;5;124;43musing\u001b[39;49m\u001b[38;5;124;43m\"\u001b[39;49m\u001b[43m:\u001b[49m\u001b[43m \u001b[49m\u001b[43mby\u001b[49m\u001b[43m,\u001b[49m\u001b[43m \u001b[49m\u001b[38;5;124;43m\"\u001b[39;49m\u001b[38;5;124;43mvalue\u001b[39;49m\u001b[38;5;124;43m\"\u001b[39;49m\u001b[43m:\u001b[49m\u001b[43m \u001b[49m\u001b[43mvalue\u001b[49m\u001b[43m}\u001b[49m\u001b[43m)\u001b[49m[\u001b[38;5;124m\"\u001b[39m\u001b[38;5;124mvalue\u001b[39m\u001b[38;5;124m\"\u001b[39m]\n",
      "File \u001b[1;32md:\\pypjts\\iCrawler\\.env64\\lib\\site-packages\\selenium\\webdriver\\remote\\webelement.py:395\u001b[0m, in \u001b[0;36mWebElement._execute\u001b[1;34m(self, command, params)\u001b[0m\n\u001b[0;32m    393\u001b[0m     params \u001b[38;5;241m=\u001b[39m {}\n\u001b[0;32m    394\u001b[0m params[\u001b[38;5;124m\"\u001b[39m\u001b[38;5;124mid\u001b[39m\u001b[38;5;124m\"\u001b[39m] \u001b[38;5;241m=\u001b[39m \u001b[38;5;28mself\u001b[39m\u001b[38;5;241m.\u001b[39m_id\n\u001b[1;32m--> 395\u001b[0m \u001b[38;5;28;01mreturn\u001b[39;00m \u001b[38;5;28;43mself\u001b[39;49m\u001b[38;5;241;43m.\u001b[39;49m\u001b[43m_parent\u001b[49m\u001b[38;5;241;43m.\u001b[39;49m\u001b[43mexecute\u001b[49m\u001b[43m(\u001b[49m\u001b[43mcommand\u001b[49m\u001b[43m,\u001b[49m\u001b[43m \u001b[49m\u001b[43mparams\u001b[49m\u001b[43m)\u001b[49m\n",
      "File \u001b[1;32md:\\pypjts\\iCrawler\\.env64\\lib\\site-packages\\selenium\\webdriver\\remote\\webdriver.py:354\u001b[0m, in \u001b[0;36mWebDriver.execute\u001b[1;34m(self, driver_command, params)\u001b[0m\n\u001b[0;32m    352\u001b[0m response \u001b[38;5;241m=\u001b[39m \u001b[38;5;28mself\u001b[39m\u001b[38;5;241m.\u001b[39mcommand_executor\u001b[38;5;241m.\u001b[39mexecute(driver_command, params)\n\u001b[0;32m    353\u001b[0m \u001b[38;5;28;01mif\u001b[39;00m response:\n\u001b[1;32m--> 354\u001b[0m     \u001b[38;5;28;43mself\u001b[39;49m\u001b[38;5;241;43m.\u001b[39;49m\u001b[43merror_handler\u001b[49m\u001b[38;5;241;43m.\u001b[39;49m\u001b[43mcheck_response\u001b[49m\u001b[43m(\u001b[49m\u001b[43mresponse\u001b[49m\u001b[43m)\u001b[49m\n\u001b[0;32m    355\u001b[0m     response[\u001b[38;5;124m\"\u001b[39m\u001b[38;5;124mvalue\u001b[39m\u001b[38;5;124m\"\u001b[39m] \u001b[38;5;241m=\u001b[39m \u001b[38;5;28mself\u001b[39m\u001b[38;5;241m.\u001b[39m_unwrap_value(response\u001b[38;5;241m.\u001b[39mget(\u001b[38;5;124m\"\u001b[39m\u001b[38;5;124mvalue\u001b[39m\u001b[38;5;124m\"\u001b[39m, \u001b[38;5;28;01mNone\u001b[39;00m))\n\u001b[0;32m    356\u001b[0m     \u001b[38;5;28;01mreturn\u001b[39;00m response\n",
      "File \u001b[1;32md:\\pypjts\\iCrawler\\.env64\\lib\\site-packages\\selenium\\webdriver\\remote\\errorhandler.py:229\u001b[0m, in \u001b[0;36mErrorHandler.check_response\u001b[1;34m(self, response)\u001b[0m\n\u001b[0;32m    227\u001b[0m         alert_text \u001b[38;5;241m=\u001b[39m value[\u001b[38;5;124m\"\u001b[39m\u001b[38;5;124malert\u001b[39m\u001b[38;5;124m\"\u001b[39m]\u001b[38;5;241m.\u001b[39mget(\u001b[38;5;124m\"\u001b[39m\u001b[38;5;124mtext\u001b[39m\u001b[38;5;124m\"\u001b[39m)\n\u001b[0;32m    228\u001b[0m     \u001b[38;5;28;01mraise\u001b[39;00m exception_class(message, screen, stacktrace, alert_text)  \u001b[38;5;66;03m# type: ignore[call-arg]  # mypy is not smart enough here\u001b[39;00m\n\u001b[1;32m--> 229\u001b[0m \u001b[38;5;28;01mraise\u001b[39;00m exception_class(message, screen, stacktrace)\n",
      "\u001b[1;31mNoSuchElementException\u001b[0m: Message: no such element: Unable to locate element: {\"method\":\"link text\",\"selector\":\"Video\"}\n  (Session info: chrome=127.0.6533.120); For documentation on this error, please visit: https://www.selenium.dev/documentation/webdriver/troubleshooting/errors#no-such-element-exception\nStacktrace:\n\tGetHandleVerifier [0x00007FF7D9379642+30946]\n\t(No symbol) [0x00007FF7D932E3D9]\n\t(No symbol) [0x00007FF7D9226FDA]\n\t(No symbol) [0x00007FF7D927822C]\n\t(No symbol) [0x00007FF7D927850C]\n\t(No symbol) [0x00007FF7D926BCDC]\n\t(No symbol) [0x00007FF7D929CAAF]\n\t(No symbol) [0x00007FF7D926BBB6]\n\t(No symbol) [0x00007FF7D929CC80]\n\t(No symbol) [0x00007FF7D92BB041]\n\t(No symbol) [0x00007FF7D929C813]\n\t(No symbol) [0x00007FF7D926A6E5]\n\t(No symbol) [0x00007FF7D926B021]\n\tGetHandleVerifier [0x00007FF7D94AF84D+1301229]\n\tGetHandleVerifier [0x00007FF7D94BBDC7+1351783]\n\tGetHandleVerifier [0x00007FF7D94B2A13+1313971]\n\tGetHandleVerifier [0x00007FF7D93ADD16+245686]\n\t(No symbol) [0x00007FF7D933759F]\n\t(No symbol) [0x00007FF7D9333814]\n\t(No symbol) [0x00007FF7D93339A2]\n\t(No symbol) [0x00007FF7D932A3FF]\n\tBaseThreadInitThunk [0x00007FF924797374+20]\n\tRtlUserThreadStart [0x00007FF9266FCC91+33]\n"
     ]
    }
   ],
   "source": [
    "def select_contents_type(type='Video'):\n",
    "    try:\n",
    "        results = WebDriverWait(driver, 10).until(\n",
    "            EC.presence_of_element_located((By.CLASS_NAME, \"pageTunerWrapper__items\"))\n",
    "        )\n",
    "    finally:\n",
    "        print('results:', results)\n",
    "        a = results.find_element(By.LINK_TEXT, type.capitalize())\n",
    "        print('a:', a)\n",
    "\n",
    "        # app = driver.find_element(By.ID, 'app')\n",
    "        # nav = app.find_element(By.CLASS_NAME, \"pageTunerWrapper\")\n",
    "        # print('nav:', nav)\n",
    "\n",
    "        # type = type.capitalize()\n",
    "        # print('type:', type)\n",
    "        # a = nav.find_element(By.LINK_TEXT, type)\n",
    "        # print('a:', a)\n",
    "        # a.click()\n",
    "    \n",
    "\n",
    "select_contents_type('video')"
   ]
  },
  {
   "cell_type": "markdown",
   "metadata": {},
   "source": [
    "### 링크주소 입력"
   ]
  },
  {
   "cell_type": "code",
   "execution_count": 7,
   "metadata": {},
   "outputs": [],
   "source": [
    "def input_link(url):\n",
    "    input_box = driver.find_element(By.ID, 'input')\n",
    "    # print(input_box) \n",
    "\n",
    "    input_box.send_keys(url)\n",
    "    input_box.send_keys(Keys.RETURN)\n",
    "\n",
    "input_link(\"https://www.instagram.com/p/C-hts7migZz/?utm_source=ig_web_copy_link\") "
   ]
  },
  {
   "cell_type": "markdown",
   "metadata": {},
   "source": [
    "### 다운로드"
   ]
  },
  {
   "cell_type": "code",
   "execution_count": 8,
   "metadata": {},
   "outputs": [],
   "source": [
    "from pprint import PrettyPrinter\n",
    "pp = PrettyPrinter(indent=2)\n",
    "import os \n",
    "from bs4 import BeautifulSoup\n",
    "import requests \n",
    "from moviepy.editor import VideoFileClip, concatenate_videoclips\n",
    "\n",
    "def get_download_urls():\n",
    "    soup = BeautifulSoup(driver.page_source, 'html.parser')\n",
    "    app = soup.find(id='app')\n",
    "    result = app.find(class_=\"search-result\")\n",
    "    _list = result.find('ul', class_=\"output-list__list\")\n",
    "    # print(_list.prettify())\n",
    "    urls = []\n",
    "    for li in _list.find_all('li'):\n",
    "        d = li.find('a').attrs\n",
    "        urls.append(d['href'])\n",
    "    return urls \n",
    "\n",
    "\n",
    "def download_file(url, local_filename):\n",
    "    # Send a GET request to the URL\n",
    "    with requests.get(url, stream=True) as response:\n",
    "        response.raise_for_status()  # Check for HTTP request errors\n",
    "        # Open a local file with write-binary mode\n",
    "        with open(local_filename, 'wb') as file:\n",
    "            # Write the content of the response in chunks\n",
    "            for chunk in response.iter_content(chunk_size=8192):\n",
    "                file.write(chunk)\n",
    "    print(f\"File downloaded: {local_filename}\")\n",
    "\n",
    "\n",
    "def download(delay):\n",
    "    try:\n",
    "        results = WebDriverWait(driver, 10).until(\n",
    "            EC.presence_of_element_located((By.CLASS_NAME, \"search-result\"))\n",
    "        )\n",
    "    finally:\n",
    "        print('results', results)\n",
    "\n",
    "        # ul = results.find_element(By.CLASS_NAME, 'output-list__list')\n",
    "        # print(ul)\n",
    "        try:\n",
    "            ul = WebDriverWait(driver, 10).until(\n",
    "                EC.presence_of_element_located((By.CLASS_NAME, \"output-list__list\"))\n",
    "            )\n",
    "        finally:\n",
    "            print('ul', ul)\n",
    "\n",
    "            # 방법.1\n",
    "            # for i, li in enumerate(ul.find_elements(By.TAG_NAME, 'li'), start=1):\n",
    "            #     print([i, li])\n",
    "            #     li.find_element(By.LINK_TEXT, 'Download').click()\n",
    "            #     sleep(delay)\n",
    "\n",
    "            # 방법.2\n",
    "            urls = get_download_urls()\n",
    "            filepaths = []\n",
    "            for i, url in enumerate(urls, start=1):\n",
    "                print([i, url])\n",
    "                _dir = 'C:\\\\Users\\\\innovata\\\\Downloads'\n",
    "                filepath = os.path.join(_dir, str(i).zfill(2)+'.mp4')\n",
    "                filepaths.append(filepath)\n",
    "                download_file(url, filepath)\n",
    "\n",
    "            print('다운로드 완료')\n",
    "            \n",
    "            # 동영상 파일 병합\n",
    "            clips = []\n",
    "            for filepath in filepaths:\n",
    "                clips.append(VideoFileClip(filepath))\n",
    "            final_clip = concatenate_videoclips(clips)\n",
    "            out_file = os.path.join(_dir, 'output.mp4')\n",
    "            final_clip.write_videofile(out_file)\n",
    "\n",
    "            # 다운로드한 분할 영상은 삭제 \n",
    "            for filepath in filepaths:\n",
    "                os.remove(filepath)\n",
    "\n",
    "            print('DONE.')\n",
    "\n",
    "\n",
    "# urls = get_download_urls()\n",
    "# download(3)"
   ]
  },
  {
   "cell_type": "code",
   "execution_count": 105,
   "metadata": {},
   "outputs": [],
   "source": [
    "from urllib.parse import urlparse\n",
    "o = urlparse(urls[0])"
   ]
  },
  {
   "cell_type": "code",
   "execution_count": 109,
   "metadata": {},
   "outputs": [
    {
     "data": {
      "text/plain": [
       "'/get'"
      ]
     },
     "execution_count": 109,
     "metadata": {},
     "output_type": "execute_result"
    }
   ],
   "source": [
    "o.path "
   ]
  },
  {
   "cell_type": "code",
   "execution_count": null,
   "metadata": {},
   "outputs": [],
   "source": []
  },
  {
   "cell_type": "code",
   "execution_count": 11,
   "metadata": {},
   "outputs": [
    {
     "name": "stdout",
     "output_type": "stream",
     "text": [
      "results <selenium.webdriver.remote.webelement.WebElement (session=\"7f664f06ba67d74bb82be419434e223b\", element=\"f.F2FBCFF3E0A1C08F4411C95718CEFB6B.d.1FDD3CC8EF7D9324FB0A522B952F6371.e.8988\")>\n"
     ]
    },
    {
     "ename": "UnboundLocalError",
     "evalue": "local variable 'ul' referenced before assignment",
     "output_type": "error",
     "traceback": [
      "\u001b[1;31m---------------------------------------------------------------------------\u001b[0m",
      "\u001b[1;31mTimeoutException\u001b[0m                          Traceback (most recent call last)",
      "Cell \u001b[1;32mIn[8], line 44\u001b[0m, in \u001b[0;36mdownload\u001b[1;34m(delay)\u001b[0m\n\u001b[0;32m     43\u001b[0m \u001b[38;5;28;01mtry\u001b[39;00m:\n\u001b[1;32m---> 44\u001b[0m     ul \u001b[38;5;241m=\u001b[39m \u001b[43mWebDriverWait\u001b[49m\u001b[43m(\u001b[49m\u001b[43mdriver\u001b[49m\u001b[43m,\u001b[49m\u001b[43m \u001b[49m\u001b[38;5;241;43m10\u001b[39;49m\u001b[43m)\u001b[49m\u001b[38;5;241;43m.\u001b[39;49m\u001b[43muntil\u001b[49m\u001b[43m(\u001b[49m\n\u001b[0;32m     45\u001b[0m \u001b[43m        \u001b[49m\u001b[43mEC\u001b[49m\u001b[38;5;241;43m.\u001b[39;49m\u001b[43mpresence_of_element_located\u001b[49m\u001b[43m(\u001b[49m\u001b[43m(\u001b[49m\u001b[43mBy\u001b[49m\u001b[38;5;241;43m.\u001b[39;49m\u001b[43mCLASS_NAME\u001b[49m\u001b[43m,\u001b[49m\u001b[43m \u001b[49m\u001b[38;5;124;43m\"\u001b[39;49m\u001b[38;5;124;43moutput-list__list\u001b[39;49m\u001b[38;5;124;43m\"\u001b[39;49m\u001b[43m)\u001b[49m\u001b[43m)\u001b[49m\n\u001b[0;32m     46\u001b[0m \u001b[43m    \u001b[49m\u001b[43m)\u001b[49m\n\u001b[0;32m     47\u001b[0m \u001b[38;5;28;01mfinally\u001b[39;00m:\n",
      "File \u001b[1;32md:\\pypjts\\iCrawler\\.env64\\lib\\site-packages\\selenium\\webdriver\\support\\wait.py:105\u001b[0m, in \u001b[0;36mWebDriverWait.until\u001b[1;34m(self, method, message)\u001b[0m\n\u001b[0;32m    104\u001b[0m         \u001b[38;5;28;01mbreak\u001b[39;00m\n\u001b[1;32m--> 105\u001b[0m \u001b[38;5;28;01mraise\u001b[39;00m TimeoutException(message, screen, stacktrace)\n",
      "\u001b[1;31mTimeoutException\u001b[0m: Message: \nStacktrace:\n\tGetHandleVerifier [0x00007FF7D9379642+30946]\n\t(No symbol) [0x00007FF7D932E3D9]\n\t(No symbol) [0x00007FF7D9226FDA]\n\t(No symbol) [0x00007FF7D927822C]\n\t(No symbol) [0x00007FF7D927850C]\n\t(No symbol) [0x00007FF7D92BDCB7]\n\t(No symbol) [0x00007FF7D929CAAF]\n\t(No symbol) [0x00007FF7D92BB041]\n\t(No symbol) [0x00007FF7D929C813]\n\t(No symbol) [0x00007FF7D926A6E5]\n\t(No symbol) [0x00007FF7D926B021]\n\tGetHandleVerifier [0x00007FF7D94AF84D+1301229]\n\tGetHandleVerifier [0x00007FF7D94BBDC7+1351783]\n\tGetHandleVerifier [0x00007FF7D94B2A13+1313971]\n\tGetHandleVerifier [0x00007FF7D93ADD16+245686]\n\t(No symbol) [0x00007FF7D933759F]\n\t(No symbol) [0x00007FF7D9333814]\n\t(No symbol) [0x00007FF7D93339A2]\n\t(No symbol) [0x00007FF7D932A3FF]\n\tBaseThreadInitThunk [0x00007FF924797374+20]\n\tRtlUserThreadStart [0x00007FF9266FCC91+33]\n",
      "\nDuring handling of the above exception, another exception occurred:\n",
      "\u001b[1;31mUnboundLocalError\u001b[0m                         Traceback (most recent call last)",
      "Cell \u001b[1;32mIn[11], line 7\u001b[0m\n\u001b[0;32m      4\u001b[0m     input_link(url) \n\u001b[0;32m      5\u001b[0m     download(delay\u001b[38;5;241m=\u001b[39m\u001b[38;5;241m2\u001b[39m)\n\u001b[1;32m----> 7\u001b[0m \u001b[43mdownload_insta\u001b[49m\u001b[43m(\u001b[49m\u001b[38;5;124;43m\"\u001b[39;49m\u001b[38;5;124;43mhttps://www.instagram.com/reel/C_Ln60OiEmy/?utm_source=ig_web_copy_link\u001b[39;49m\u001b[38;5;124;43m\"\u001b[39;49m\u001b[43m,\u001b[49m\u001b[43m \u001b[49m\u001b[38;5;28;43mtype\u001b[39;49m\u001b[38;5;241;43m=\u001b[39;49m\u001b[38;5;124;43m'\u001b[39;49m\u001b[38;5;124;43mvideo\u001b[39;49m\u001b[38;5;124;43m'\u001b[39;49m\u001b[43m)\u001b[49m\n",
      "Cell \u001b[1;32mIn[11], line 5\u001b[0m, in \u001b[0;36mdownload_insta\u001b[1;34m(url, type)\u001b[0m\n\u001b[0;32m      3\u001b[0m select_contents_type(\u001b[38;5;28mtype\u001b[39m)\n\u001b[0;32m      4\u001b[0m input_link(url) \n\u001b[1;32m----> 5\u001b[0m \u001b[43mdownload\u001b[49m\u001b[43m(\u001b[49m\u001b[43mdelay\u001b[49m\u001b[38;5;241;43m=\u001b[39;49m\u001b[38;5;241;43m2\u001b[39;49m\u001b[43m)\u001b[49m\n",
      "Cell \u001b[1;32mIn[8], line 48\u001b[0m, in \u001b[0;36mdownload\u001b[1;34m(delay)\u001b[0m\n\u001b[0;32m     44\u001b[0m     ul \u001b[38;5;241m=\u001b[39m WebDriverWait(driver, \u001b[38;5;241m10\u001b[39m)\u001b[38;5;241m.\u001b[39muntil(\n\u001b[0;32m     45\u001b[0m         EC\u001b[38;5;241m.\u001b[39mpresence_of_element_located((By\u001b[38;5;241m.\u001b[39mCLASS_NAME, \u001b[38;5;124m\"\u001b[39m\u001b[38;5;124moutput-list__list\u001b[39m\u001b[38;5;124m\"\u001b[39m))\n\u001b[0;32m     46\u001b[0m     )\n\u001b[0;32m     47\u001b[0m \u001b[38;5;28;01mfinally\u001b[39;00m:\n\u001b[1;32m---> 48\u001b[0m     \u001b[38;5;28mprint\u001b[39m(\u001b[38;5;124m'\u001b[39m\u001b[38;5;124mul\u001b[39m\u001b[38;5;124m'\u001b[39m, \u001b[43mul\u001b[49m)\n\u001b[0;32m     50\u001b[0m     \u001b[38;5;66;03m# 방법.1\u001b[39;00m\n\u001b[0;32m     51\u001b[0m     \u001b[38;5;66;03m# for i, li in enumerate(ul.find_elements(By.TAG_NAME, 'li'), start=1):\u001b[39;00m\n\u001b[0;32m     52\u001b[0m     \u001b[38;5;66;03m#     print([i, li])\u001b[39;00m\n\u001b[1;32m   (...)\u001b[0m\n\u001b[0;32m     55\u001b[0m \n\u001b[0;32m     56\u001b[0m     \u001b[38;5;66;03m# 방법.2\u001b[39;00m\n\u001b[0;32m     57\u001b[0m     urls \u001b[38;5;241m=\u001b[39m get_download_urls()\n",
      "\u001b[1;31mUnboundLocalError\u001b[0m: local variable 'ul' referenced before assignment"
     ]
    }
   ],
   "source": [
    "def download_insta(url, type='video'):\n",
    "    driver.get(\"https://sssinstagram.com/\")\n",
    "    select_contents_type(type)\n",
    "    input_link(url) \n",
    "    download(delay=2)\n",
    "\n",
    "download_insta(\"https://www.instagram.com/reel/C_Ln60OiEmy/?utm_source=ig_web_copy_link\", type='video')"
   ]
  },
  {
   "cell_type": "code",
   "execution_count": null,
   "metadata": {},
   "outputs": [],
   "source": []
  },
  {
   "cell_type": "code",
   "execution_count": null,
   "metadata": {},
   "outputs": [],
   "source": []
  },
  {
   "cell_type": "code",
   "execution_count": null,
   "metadata": {},
   "outputs": [],
   "source": []
  },
  {
   "cell_type": "code",
   "execution_count": null,
   "metadata": {},
   "outputs": [],
   "source": []
  },
  {
   "cell_type": "code",
   "execution_count": null,
   "metadata": {},
   "outputs": [],
   "source": []
  },
  {
   "cell_type": "code",
   "execution_count": null,
   "metadata": {},
   "outputs": [],
   "source": []
  },
  {
   "cell_type": "code",
   "execution_count": null,
   "metadata": {},
   "outputs": [],
   "source": []
  },
  {
   "cell_type": "code",
   "execution_count": null,
   "metadata": {},
   "outputs": [],
   "source": []
  },
  {
   "cell_type": "code",
   "execution_count": null,
   "metadata": {},
   "outputs": [],
   "source": []
  }
 ],
 "metadata": {
  "kernelspec": {
   "display_name": ".env64",
   "language": "python",
   "name": "python3"
  },
  "language_info": {
   "codemirror_mode": {
    "name": "ipython",
    "version": 3
   },
   "file_extension": ".py",
   "mimetype": "text/x-python",
   "name": "python",
   "nbconvert_exporter": "python",
   "pygments_lexer": "ipython3",
   "version": "3.9.2"
  }
 },
 "nbformat": 4,
 "nbformat_minor": 2
}
