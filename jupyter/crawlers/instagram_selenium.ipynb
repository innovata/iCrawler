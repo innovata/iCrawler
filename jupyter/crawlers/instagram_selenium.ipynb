{
 "cells": [
  {
   "cell_type": "markdown",
   "metadata": {},
   "source": [
    "# Selenium Driver 를 이용해서 다운로드 \n",
    "SSS Instagram Web Service  \n",
    "https://sssinstagram.com/  "
   ]
  },
  {
   "cell_type": "markdown",
   "metadata": {},
   "source": [
    "# Setup Environment\n",
    "References:  \n"
   ]
  },
  {
   "cell_type": "markdown",
   "metadata": {},
   "source": [
    "# 패키지/모듈 로딩"
   ]
  },
  {
   "cell_type": "code",
   "execution_count": 1,
   "metadata": {},
   "outputs": [],
   "source": [
    "import re \n",
    "from time import sleep\n",
    "from pprint import PrettyPrinter\n",
    "pp = PrettyPrinter(indent=2)\n",
    "import os \n",
    "\n",
    "from selenium import webdriver \n",
    "from selenium.webdriver.common.by import By\n",
    "from selenium.webdriver.common.keys import Keys\n",
    "from selenium.webdriver.support.wait import WebDriverWait\n",
    "from selenium.webdriver.support import expected_conditions as EC\n",
    "\n",
    "from bs4 import BeautifulSoup\n",
    "import requests \n",
    "from moviepy.editor import VideoFileClip, concatenate_videoclips"
   ]
  },
  {
   "cell_type": "code",
   "execution_count": 2,
   "metadata": {},
   "outputs": [
    {
     "data": {
      "text/plain": [
       "<selenium.webdriver.chrome.webdriver.WebDriver (session=\"40f74d267638d4092efda341d7a9c7b3\")>"
      ]
     },
     "execution_count": 2,
     "metadata": {},
     "output_type": "execute_result"
    }
   ],
   "source": [
    "driver = webdriver.Chrome()\n",
    "driver "
   ]
  },
  {
   "cell_type": "code",
   "execution_count": 9,
   "metadata": {},
   "outputs": [],
   "source": [
    "driver.get(\"https://sssinstagram.com/\")"
   ]
  },
  {
   "cell_type": "markdown",
   "metadata": {},
   "source": [
    "### 컨텐츠타입 입력"
   ]
  },
  {
   "cell_type": "code",
   "execution_count": 11,
   "metadata": {},
   "outputs": [
    {
     "name": "stdout",
     "output_type": "stream",
     "text": [
      "presence_of_element: <selenium.webdriver.remote.webelement.WebElement (session=\"40f74d267638d4092efda341d7a9c7b3\", element=\"f.584DF58540FB1D8CAFFF213F88C83AAD.d.A7C4848441A558433529846068F430BA.e.7771\")>\n"
     ]
    }
   ],
   "source": [
    "def select_contents_type(type='Video'):\n",
    "    try:\n",
    "        elem = WebDriverWait(driver, 10).until(\n",
    "            # EC.presence_of_element_located((By.CLASS_NAME, \"pageTunerWrapper__items\"))\n",
    "            EC.presence_of_element_located((By.XPATH, \"//a[@href='https://sssinstagram.com/video-downloader']\"))\n",
    "        )\n",
    "    except Exception as e:\n",
    "        print(\"ERROR:\", e)\n",
    "    else:\n",
    "        print('presence_of_element:', elem)\n",
    "        elem.click()\n",
    "        \n",
    "        # a = elem.find_element(By.LINK_TEXT, type.capitalize())\n",
    "        # print('a:', a)\n",
    "\n",
    "        # app = driver.find_element(By.ID, 'app')\n",
    "        # nav = app.find_element(By.CLASS_NAME, \"pageTunerWrapper\")\n",
    "        # print('nav:', nav)\n",
    "\n",
    "        # type = type.capitalize()\n",
    "        # print('type:', type)\n",
    "        # a = nav.find_element(By.LINK_TEXT, type)\n",
    "        # print('a:', a)\n",
    "        # a.click()\n",
    "    \n",
    "\n",
    "select_contents_type('video')"
   ]
  },
  {
   "cell_type": "markdown",
   "metadata": {},
   "source": [
    "### 링크주소 입력"
   ]
  },
  {
   "cell_type": "code",
   "execution_count": 19,
   "metadata": {},
   "outputs": [],
   "source": [
    "def input_link(url):\n",
    "    input_box = driver.find_element(By.ID, 'input')\n",
    "    # print(input_box) \n",
    "\n",
    "    input_box.send_keys(url)\n",
    "    input_box.send_keys(Keys.RETURN)\n",
    "\n",
    "# input_link(\"https://www.instagram.com/p/C-hts7migZz/?utm_source=ig_web_copy_link\") \n",
    "input_link(\"https://www.instagram.com/reel/C_Ln60OiEmy/?utm_source=ig_web_copy_link\")"
   ]
  },
  {
   "cell_type": "markdown",
   "metadata": {},
   "source": [
    "### META DATA PARSER"
   ]
  },
  {
   "cell_type": "code",
   "execution_count": 17,
   "metadata": {},
   "outputs": [
    {
     "name": "stdout",
     "output_type": "stream",
     "text": [
      "Buenas vibras con este palo de canción  sólo hay que ver nuestras caras🫶  @pintopicasso dímelo!   @dismo_media   @lasvegassupercongress #lasvegas   #bachata #luisyandrea #usa #bachatadance #america\n"
     ]
    }
   ],
   "source": [
    "def get_body_text():\n",
    "    soup = BeautifulSoup(driver.page_source, 'html.parser')\n",
    "    app = soup.find(id='app')\n",
    "    result = app.find('div', class_=\"search-result\")\n",
    "    text = result.find('p', class_=\"output-list__caption\")\n",
    "    print(text.get_text())\n",
    "\n",
    "\n",
    "get_body_text()"
   ]
  },
  {
   "cell_type": "markdown",
   "metadata": {},
   "source": [
    "### 다운로드"
   ]
  },
  {
   "cell_type": "code",
   "execution_count": 18,
   "metadata": {},
   "outputs": [
    {
     "name": "stdout",
     "output_type": "stream",
     "text": [
      "results <selenium.webdriver.remote.webelement.WebElement (session=\"40f74d267638d4092efda341d7a9c7b3\", element=\"f.584DF58540FB1D8CAFFF213F88C83AAD.d.6DE6AC4A2DE1A0BBC7D7E0556B2FECCC.e.15134\")>\n",
      "ul <selenium.webdriver.remote.webelement.WebElement (session=\"40f74d267638d4092efda341d7a9c7b3\", element=\"f.584DF58540FB1D8CAFFF213F88C83AAD.d.6DE6AC4A2DE1A0BBC7D7E0556B2FECCC.e.15445\")>\n",
      "[1, 'https://media.sssinstagram.com/get?__sig=H-dHxLKgQZQ0zt3JnVcMFw&__expires=1725168302&uri=https%3A%2F%2Finstagram.fiev6-1.fna.fbcdn.net%2Fo1%2Fv%2Ft16%2Ff2%2Fm69%2FAn-6Nw-jTM06hDHoYyytonywelGKzQPkyX7J_lQ24uQsxw4RLFBFNxo8urowPI5QJW0cPKJzhdgqREbQzZ1nBK0v.mp4%3Fstp%3Ddst-mp4%26efg%3DeyJxZV9ncm91cHMiOiJbXCJpZ193ZWJfZGVsaXZlcnlfdnRzX290ZlwiXSIsInZlbmNvZGVfdGFnIjoidnRzX3ZvZF91cmxnZW4uY2xpcHMuYzIuMTA4MC5iYXNlbGluZSJ9%26_nc_cat%3D103%26vs%3D1916387882163993_1934979421%26_nc_vs%3DHBksFQIYOnBhc3N0aHJvdWdoX2V2ZXJzdG9yZS9HSUlZNkFJX3ZDMGVwNm9CQUc0UDdxVkVuQThTYnBSMUFBQUYVAALIAQAVAhg6cGFzc3Rocm91Z2hfZXZlcnN0b3JlL0dNWDlRaHZuX21wMVNad0RBSG0xT2RzUVBhc2xicV9FQUFBRhUCAsgBACgAGAAbABUAACbC25mpjcSUQBUCKAJDMywXQEMmZmZmZmYYFmRhc2hfYmFzZWxpbmVfMTA4MHBfdjERAHX%252BBwA%253D%26_nc_rid%3D58f00b0863%26ccb%3D9-4%26oh%3D00_AYDbR_vnSDpF3x4AyVEfQv1OASVme680TZpNOWKZB1pvSQ%26oe%3D66D4E95A%26_nc_sid%3D2999b8%26dl%3D1&filename=Buenas%20vibras%20con%20este%20palo%20de%20canci%C3%B3n%20%20s%C3%B3lo%20hay%20que%20ver%20nuestras%20caras%F0%9F%AB%B6%20%20%40pintopicasso%20d%C3%ADmelo!%20%20%20%40dismo_media%20%20%20%40lasvegassupercongress%20%23lasvegas%20%20%20%23bachata%20%23luisyandrea%20%23usa%20%23bachatadance%20%23america.mp4&ua=-&referer=https%3A%2F%2Fwww.instagram.com%2F']\n",
      "File downloaded: C:\\Users\\innovata\\Downloads\\01.mp4\n",
      "다운로드 완료\n",
      "Moviepy - Building video C:\\Users\\innovata\\Downloads\\output.mp4.\n",
      "MoviePy - Writing audio in outputTEMP_MPY_wvf_snd.mp3\n"
     ]
    },
    {
     "name": "stderr",
     "output_type": "stream",
     "text": [
      "                                                                    \r"
     ]
    },
    {
     "name": "stdout",
     "output_type": "stream",
     "text": [
      "MoviePy - Done.\n",
      "Moviepy - Writing video C:\\Users\\innovata\\Downloads\\output.mp4\n",
      "\n"
     ]
    },
    {
     "name": "stderr",
     "output_type": "stream",
     "text": [
      "                                                                \r"
     ]
    },
    {
     "name": "stdout",
     "output_type": "stream",
     "text": [
      "Moviepy - Done !\n",
      "Moviepy - video ready C:\\Users\\innovata\\Downloads\\output.mp4\n",
      "동영상 파일 병합 완료.\n",
      "분할파일 삭제 완료.\n",
      "DONE.\n"
     ]
    }
   ],
   "source": [
    "def get_download_urls():\n",
    "    soup = BeautifulSoup(driver.page_source, 'html.parser')\n",
    "    app = soup.find(id='app')\n",
    "    result = app.find(class_=\"search-result\")\n",
    "    _list = result.find('ul', class_=\"output-list__list\")\n",
    "    # print(_list.prettify())\n",
    "    urls = []\n",
    "    for li in _list.find_all('li'):\n",
    "        d = li.find('a').attrs\n",
    "        urls.append(d['href'])\n",
    "    return urls \n",
    "\n",
    "\n",
    "def download_file(url, local_filename):\n",
    "    # Send a GET request to the URL\n",
    "    with requests.get(url, stream=True) as response:\n",
    "        response.raise_for_status()  # Check for HTTP request errors\n",
    "        # Open a local file with write-binary mode\n",
    "        with open(local_filename, 'wb') as file:\n",
    "            # Write the content of the response in chunks\n",
    "            for chunk in response.iter_content(chunk_size=8192):\n",
    "                file.write(chunk)\n",
    "    print(f\"File downloaded: {local_filename}\")\n",
    "\n",
    "\n",
    "from pathlib import WindowsPath\n",
    "\n",
    "def download(_dir='C:\\\\Users\\\\innovata\\\\Downloads', delay=3):\n",
    "    _dir = str(WindowsPath(_dir))\n",
    "\n",
    "    try:\n",
    "        results = WebDriverWait(driver, 10).until(\n",
    "            EC.presence_of_element_located((By.CLASS_NAME, \"search-result\"))\n",
    "        )\n",
    "    except Exception as e:\n",
    "        print(f\"ERROR | {e}\")\n",
    "    else:\n",
    "        print('results', results)\n",
    "\n",
    "        # ul = results.find_element(By.CLASS_NAME, 'output-list__list')\n",
    "        # print(ul)\n",
    "        try:\n",
    "            ul = WebDriverWait(driver, 10).until(\n",
    "                EC.presence_of_element_located((By.CLASS_NAME, \"output-list__list\"))\n",
    "            )\n",
    "        except Exception as e:\n",
    "            print(f\"ERROR | {e}\")\n",
    "        else:\n",
    "            print('ul', ul)\n",
    "\n",
    "            urls = get_download_urls()\n",
    "            filepaths = []\n",
    "            for i, url in enumerate(urls, start=1):\n",
    "                print([i, url])\n",
    "\n",
    "                filepath = os.path.join(_dir, str(i).zfill(2)+'.mp4')\n",
    "                filepaths.append(filepath)\n",
    "                download_file(url, filepath)\n",
    "\n",
    "            print('다운로드 완료')\n",
    "            \n",
    "            # 동영상 파일 병합\n",
    "            clips = []\n",
    "            for filepath in filepaths:\n",
    "                clips.append(VideoFileClip(filepath))\n",
    "            final_clip = concatenate_videoclips(clips)\n",
    "            out_file = os.path.join(_dir, 'output.mp4')\n",
    "            final_clip.write_videofile(out_file)\n",
    "            print('동영상 파일 병합 완료.')\n",
    "\n",
    "            # 다운로드한 분할 영상은 삭제 \n",
    "            for filepath in filepaths:\n",
    "                os.remove(filepath)\n",
    "            print('분할파일 삭제 완료.')\n",
    "\n",
    "            print('DONE.')\n",
    "\n",
    "\n",
    "# urls = get_download_urls()\n",
    "download()"
   ]
  },
  {
   "cell_type": "code",
   "execution_count": 105,
   "metadata": {},
   "outputs": [],
   "source": [
    "from urllib.parse import urlparse\n",
    "o = urlparse(urls[0])"
   ]
  },
  {
   "cell_type": "code",
   "execution_count": 109,
   "metadata": {},
   "outputs": [
    {
     "data": {
      "text/plain": [
       "'/get'"
      ]
     },
     "execution_count": 109,
     "metadata": {},
     "output_type": "execute_result"
    }
   ],
   "source": [
    "o.path "
   ]
  },
  {
   "cell_type": "code",
   "execution_count": null,
   "metadata": {},
   "outputs": [],
   "source": []
  },
  {
   "cell_type": "code",
   "execution_count": 21,
   "metadata": {},
   "outputs": [
    {
     "name": "stdout",
     "output_type": "stream",
     "text": [
      "presence_of_element: <selenium.webdriver.remote.webelement.WebElement (session=\"40f74d267638d4092efda341d7a9c7b3\", element=\"f.584DF58540FB1D8CAFFF213F88C83AAD.d.809B4AB5CE417023AB9B96CA045E2E68.e.20749\")>\n",
      "results <selenium.webdriver.remote.webelement.WebElement (session=\"40f74d267638d4092efda341d7a9c7b3\", element=\"f.584DF58540FB1D8CAFFF213F88C83AAD.d.8AD11DDD5B3AD5CF88E6F88FA15E9641.e.21904\")>\n",
      "ul <selenium.webdriver.remote.webelement.WebElement (session=\"40f74d267638d4092efda341d7a9c7b3\", element=\"f.584DF58540FB1D8CAFFF213F88C83AAD.d.8AD11DDD5B3AD5CF88E6F88FA15E9641.e.22121\")>\n",
      "[1, 'https://media.sssinstagram.com/get?__sig=0ozzuWyr7HquTVwkrcxmCA&__expires=1725180088&uri=https%3A%2F%2Finstagram.faep4-3.fna.fbcdn.net%2Fo1%2Fv%2Ft16%2Ff2%2Fm69%2FAn-a4WoetnGIn7cHkII07f9xW5nMSa6acfXo7qFEzC9Q9-Qt4iSj2enVPpxF2MJtK6XaQKVBm_sJpq18tqoC5n3-.mp4%3Fstp%3Ddst-mp4%26efg%3DeyJxZV9ncm91cHMiOiJbXCJpZ193ZWJfZGVsaXZlcnlfdnRzX290ZlwiXSIsInZlbmNvZGVfdGFnIjoidnRzX3ZvZF91cmxnZW4uY2Fyb3VzZWxfaXRlbS5jMi4xMDgwLmJhc2VsaW5lIn0%26_nc_cat%3D101%26vs%3D476553402002569_1834716804%26_nc_vs%3DHBksFQIYOnBhc3N0aHJvdWdoX2V2ZXJzdG9yZS9HRTdaUVFNaVJYMWNUOEFCQUtVNHRIQ21qa2NEYnBSMUFBQUYVAALIAQAVAhg6cGFzc3Rocm91Z2hfZXZlcnN0b3JlL0dONWtQeHRNcGQ3cW16d0dBTFFQUTZ2b1RfSnpia1lMQUFBRhUCAsgBACgAGAAbABUAACbAzsOK1%252Fi%252FPxUCKAJDMywXQE13bItDlYEYFmRhc2hfYmFzZWxpbmVfMTA4MHBfdjERAHXuBwA%253D%26_nc_rid%3Df0e409eadc%26ccb%3D9-4%26oh%3D00_AYAZEG0W6OWATNy8hgYkqKX0jo79pi5vahRNTsZRG8x6kw%26oe%3D66D5FAB8%26_nc_sid%3D2999b8%26dl%3D1&filename=%F0%9F%A9%B7Ni%C3%B1a%20de%20mi%20Coraz%C3%B3n%20%F0%9F%A9%B7%20%20%20M%26S%20%20%20%40miguel_casas29%20%40sunsirenieto%20%20%20Ni%C3%B1a%20de%20mi%20Coraz%C3%B3n%20%40karlosrose%20%20%20%40salsabachatatemptation%20%20%20%40thebachataboy%20%23bachatadance%20%23bachataspain%20%23bachatadancers%20%23bachata%20%23bachatastyle%20%23bachatamusicality%20%23bachatadancefestival%20%23miguelys.mp4&ua=-&referer=https%3A%2F%2Fwww.instagram.com%2F']\n",
      "File downloaded: C:\\Users\\innovata\\Downloads\\01.mp4\n",
      "[2, 'https://media.sssinstagram.com/get?__sig=d3Z8FyGCZDCyn0mFOxTiqw&__expires=1725180088&uri=https%3A%2F%2Finstagram.faep4-3.fna.fbcdn.net%2Fo1%2Fv%2Ft16%2Ff2%2Fm69%2FAn8oK_K-jxNJWIKGDxqlq2ul2ZMVSKwhrjvinBE0jJxROmx3HZrMpTaTF_cqqTtpZhTFuty-7BXDCBj56q_JRnal.mp4%3Fstp%3Ddst-mp4%26efg%3DeyJxZV9ncm91cHMiOiJbXCJpZ193ZWJfZGVsaXZlcnlfdnRzX290ZlwiXSIsInZlbmNvZGVfdGFnIjoidnRzX3ZvZF91cmxnZW4uY2Fyb3VzZWxfaXRlbS5jMi4xMDgwLmJhc2VsaW5lIn0%26_nc_cat%3D106%26vs%3D1853324121820442_3053132565%26_nc_vs%3DHBksFQIYOnBhc3N0aHJvdWdoX2V2ZXJzdG9yZS9HT3JFUUFld3FMRzBnNXNCQUx6SmVZX0tqaFZ0YnBSMUFBQUYVAALIAQAVAhg6cGFzc3Rocm91Z2hfZXZlcnN0b3JlL0dLc1ZTQnY4VnA0U0Q2Y0RBT01iazI5dllGd3Fia1lMQUFBRhUCAsgBACgAGAAbABUAACbIyKm9v%252BKCQBUCKAJDMywXQEyIcrAgxJwYFmRhc2hfYmFzZWxpbmVfMTA4MHBfdjERAHXuBwA%253D%26_nc_rid%3Df0e409bee9%26ccb%3D9-4%26oh%3D00_AYCk1mcyod3mRU-ICJV4gS5gG1Y1atgZZq-Q_pNJ4oBxBg%26oe%3D66D5F5D4%26_nc_sid%3D2999b8%26dl%3D1&filename=%F0%9F%A9%B7Ni%C3%B1a%20de%20mi%20Coraz%C3%B3n%20%F0%9F%A9%B7%20%20%20M%26S%20%20%20%40miguel_casas29%20%40sunsirenieto%20%20%20Ni%C3%B1a%20de%20mi%20Coraz%C3%B3n%20%40karlosrose%20%20%20%40salsabachatatemptation%20%20%20%40thebachataboy%20%23bachatadance%20%23bachataspain%20%23bachatadancers%20%23bachata%20%23bachatastyle%20%23bachatamusicality%20%23bachatadancefestival%20%23miguelys.mp4&ua=-&referer=https%3A%2F%2Fwww.instagram.com%2F']\n",
      "File downloaded: C:\\Users\\innovata\\Downloads\\02.mp4\n",
      "[3, 'https://media.sssinstagram.com/get?__sig=RzYJeew9aTKlTGTuj1kxWA&__expires=1725180088&uri=https%3A%2F%2Finstagram.faep4-2.fna.fbcdn.net%2Fo1%2Fv%2Ft16%2Ff2%2Fm69%2FAn_H3VjqrXzzrKYgobIChOPfkKLXZdEacDaHXXWrKg6LDWjr3B44twMP8OD0IrDCSMwT030yLdRLI-B8AyEjzZ8b.mp4%3Fstp%3Ddst-mp4%26efg%3DeyJxZV9ncm91cHMiOiJbXCJpZ193ZWJfZGVsaXZlcnlfdnRzX290ZlwiXSIsInZlbmNvZGVfdGFnIjoidnRzX3ZvZF91cmxnZW4uY2Fyb3VzZWxfaXRlbS5jMi4xMDgwLmJhc2VsaW5lIn0%26_nc_cat%3D105%26vs%3D1036616194317515_2963552223%26_nc_vs%3DHBksFQIYOnBhc3N0aHJvdWdoX2V2ZXJzdG9yZS9HRmFTMkJKaTNaZVNaRUFEQVBjUEpkc3hRNlU3YnBSMUFBQUYVAALIAQAVAhg6cGFzc3Rocm91Z2hfZXZlcnN0b3JlL0dENkp6QnJMdGpGZU1nY0RBSmVGdEx3eE0zOHNia1lMQUFBRhUCAsgBACgAGAAbABUAACaW9piF0b6YQBUCKAJDMywXQE3u2RaHKwIYFmRhc2hfYmFzZWxpbmVfMTA4MHBfdjERAHXuBwA%253D%26_nc_rid%3Df0e403c605%26ccb%3D9-4%26oh%3D00_AYDI0RDyNEhVnoRA0MdxJjYzg1oiKKx4lblvk8kKLwqzuA%26oe%3D66D61C9A%26_nc_sid%3D2999b8%26dl%3D1&filename=%F0%9F%A9%B7Ni%C3%B1a%20de%20mi%20Coraz%C3%B3n%20%F0%9F%A9%B7%20%20%20M%26S%20%20%20%40miguel_casas29%20%40sunsirenieto%20%20%20Ni%C3%B1a%20de%20mi%20Coraz%C3%B3n%20%40karlosrose%20%20%20%40salsabachatatemptation%20%20%20%40thebachataboy%20%23bachatadance%20%23bachataspain%20%23bachatadancers%20%23bachata%20%23bachatastyle%20%23bachatamusicality%20%23bachatadancefestival%20%23miguelys.mp4&ua=-&referer=https%3A%2F%2Fwww.instagram.com%2F']\n",
      "File downloaded: C:\\Users\\innovata\\Downloads\\03.mp4\n",
      "다운로드 완료\n",
      "Moviepy - Building video C:\\Users\\innovata\\Downloads\\output.mp4.\n",
      "MoviePy - Writing audio in outputTEMP_MPY_wvf_snd.mp3\n"
     ]
    },
    {
     "name": "stderr",
     "output_type": "stream",
     "text": [
      "                                                                      \r"
     ]
    },
    {
     "name": "stdout",
     "output_type": "stream",
     "text": [
      "MoviePy - Done.\n",
      "Moviepy - Writing video C:\\Users\\innovata\\Downloads\\output.mp4\n",
      "\n"
     ]
    },
    {
     "name": "stderr",
     "output_type": "stream",
     "text": [
      "                                                                 \r"
     ]
    },
    {
     "name": "stdout",
     "output_type": "stream",
     "text": [
      "Moviepy - Done !\n",
      "Moviepy - video ready C:\\Users\\innovata\\Downloads\\output.mp4\n",
      "동영상 파일 병합 완료.\n",
      "분할파일 삭제 완료.\n",
      "DONE.\n"
     ]
    }
   ],
   "source": [
    "def download_insta(url, type='video'):\n",
    "    driver.get(\"https://sssinstagram.com/\")\n",
    "    select_contents_type(type)\n",
    "    input_link(url) \n",
    "    download(delay=3)\n",
    "\n",
    "download_insta(\"https://www.instagram.com/p/C_TL2pMCS7-/?utm_source=ig_web_copy_link\", type='video')"
   ]
  },
  {
   "cell_type": "code",
   "execution_count": null,
   "metadata": {},
   "outputs": [],
   "source": []
  },
  {
   "cell_type": "code",
   "execution_count": null,
   "metadata": {},
   "outputs": [],
   "source": []
  },
  {
   "cell_type": "code",
   "execution_count": null,
   "metadata": {},
   "outputs": [],
   "source": []
  },
  {
   "cell_type": "code",
   "execution_count": null,
   "metadata": {},
   "outputs": [],
   "source": []
  },
  {
   "cell_type": "code",
   "execution_count": null,
   "metadata": {},
   "outputs": [],
   "source": []
  },
  {
   "cell_type": "code",
   "execution_count": null,
   "metadata": {},
   "outputs": [],
   "source": []
  },
  {
   "cell_type": "code",
   "execution_count": null,
   "metadata": {},
   "outputs": [],
   "source": []
  },
  {
   "cell_type": "code",
   "execution_count": null,
   "metadata": {},
   "outputs": [],
   "source": []
  },
  {
   "cell_type": "code",
   "execution_count": null,
   "metadata": {},
   "outputs": [],
   "source": []
  }
 ],
 "metadata": {
  "kernelspec": {
   "display_name": ".env64",
   "language": "python",
   "name": "python3"
  },
  "language_info": {
   "codemirror_mode": {
    "name": "ipython",
    "version": 3
   },
   "file_extension": ".py",
   "mimetype": "text/x-python",
   "name": "python",
   "nbconvert_exporter": "python",
   "pygments_lexer": "ipython3",
   "version": "3.9.2"
  }
 },
 "nbformat": 4,
 "nbformat_minor": 2
}
