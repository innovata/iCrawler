{
 "cells": [
  {
   "cell_type": "markdown",
   "metadata": {},
   "source": [
    "# ipycrawl.crawlers.youtube.pytubefix "
   ]
  },
  {
   "cell_type": "markdown",
   "metadata": {},
   "source": [
    "# Setup Environment"
   ]
  },
  {
   "cell_type": "code",
   "execution_count": 2,
   "metadata": {},
   "outputs": [],
   "source": [
    "import sys \n",
    "sys.path.append(\"D:\\pypjts\\iCrawler\\src\")"
   ]
  },
  {
   "cell_type": "markdown",
   "metadata": {},
   "source": [
    "# 패키지/모듈 로딩"
   ]
  },
  {
   "cell_type": "code",
   "execution_count": 4,
   "metadata": {},
   "outputs": [
    {
     "data": {
      "text/plain": [
       "<module 'ipycrawl.crawlers.youtube.pytubefix' from 'D:\\\\pypjts\\\\iCrawler\\\\src\\\\ipycrawl\\\\crawlers\\\\youtube\\\\pytubefix.py'>"
      ]
     },
     "execution_count": 4,
     "metadata": {},
     "output_type": "execute_result"
    }
   ],
   "source": [
    "import pprint \n",
    "pp = pprint.PrettyPrinter(indent=2)\n",
    "import os \n",
    "from importlib import reload\n",
    "\n",
    "\n",
    "from pytubefix import YouTube \n",
    "from pytubefix.cli import on_progress\n",
    "\n",
    "from ipycrawl.crawlers.youtube import pytubefix \n",
    "reload(pytubefix)"
   ]
  },
  {
   "cell_type": "code",
   "execution_count": null,
   "metadata": {},
   "outputs": [],
   "source": [
    "reload(pytubefix)\n",
    "\n",
    "pytubefix.download_video(\n",
    "    \"https://youtu.be/2n7UlF7wcRo?feature=shared\",\n",
    "    _dir=\"C:\\\\Users\\\\innovata\\\\Downloads\"\n",
    ")"
   ]
  },
  {
   "cell_type": "code",
   "execution_count": null,
   "metadata": {},
   "outputs": [],
   "source": [
    "reload(pytubefix)\n",
    "\n",
    "pytubefix.download_audio(\n",
    "    \"https://youtu.be/s2mZ8KbxTto?feature=shared\",\n",
    "    _dir=\"C:\\\\Users\\\\innovata\\\\Downloads\"\n",
    ")"
   ]
  },
  {
   "cell_type": "code",
   "execution_count": null,
   "metadata": {},
   "outputs": [],
   "source": []
  },
  {
   "cell_type": "code",
   "execution_count": null,
   "metadata": {},
   "outputs": [],
   "source": []
  },
  {
   "cell_type": "code",
   "execution_count": null,
   "metadata": {},
   "outputs": [],
   "source": []
  },
  {
   "cell_type": "code",
   "execution_count": null,
   "metadata": {},
   "outputs": [],
   "source": []
  },
  {
   "cell_type": "code",
   "execution_count": null,
   "metadata": {},
   "outputs": [],
   "source": []
  },
  {
   "cell_type": "code",
   "execution_count": null,
   "metadata": {},
   "outputs": [],
   "source": []
  }
 ],
 "metadata": {
  "kernelspec": {
   "display_name": ".env64",
   "language": "python",
   "name": "python3"
  },
  "language_info": {
   "codemirror_mode": {
    "name": "ipython",
    "version": 3
   },
   "file_extension": ".py",
   "mimetype": "text/x-python",
   "name": "python",
   "nbconvert_exporter": "python",
   "pygments_lexer": "ipython3",
   "version": "3.9.2"
  }
 },
 "nbformat": 4,
 "nbformat_minor": 2
}
