{
 "cells": [
  {
   "cell_type": "code",
   "execution_count": 32,
   "metadata": {},
   "outputs": [],
   "source": [
    "from _jupyterEnv import *"
   ]
  },
  {
   "cell_type": "code",
   "execution_count": 33,
   "metadata": {},
   "outputs": [
    {
     "name": "stderr",
     "output_type": "stream",
     "text": [
      "2023-06-16 14:37:03,280 | INFO | [43496/MainProcess][75536/MainThread] | file.download[31] | Downloaded. c:\\pypjts\\iCrawler\\Data\\법정동코드.txt\n"
     ]
    },
    {
     "name": "stdout",
     "output_type": "stream",
     "text": [
      "ParseResult(scheme='https', netloc='raw.githubusercontent.com', path='/innovata/GovDataScience/main/Data/법정동코드.txt', params='', query='', fragment='')\n",
      "<Response [200]>\n"
     ]
    }
   ],
   "source": [
    "reload_all()\n",
    "# url = 'https://github.com/innovata/GovDataScience/blob/main/Data/output.xml'\n",
    "# url = 'https://raw.githubusercontent.com/innovata/GovDataScience/main/Data/output.xml'\n",
    "url = 'https://raw.githubusercontent.com/innovata/GovDataScience/main/Data/법정동코드.txt'\n",
    "_dir = os.path.join('c:\\pypjts', 'iCrawler', 'Data')\n",
    "file.download(url, _dir)"
   ]
  },
  {
   "cell_type": "code",
   "execution_count": null,
   "metadata": {},
   "outputs": [],
   "source": []
  }
 ],
 "metadata": {
  "kernelspec": {
   "display_name": "CrawlEnv_py39_64bit",
   "language": "python",
   "name": "python3"
  },
  "language_info": {
   "codemirror_mode": {
    "name": "ipython",
    "version": 3
   },
   "file_extension": ".py",
   "mimetype": "text/x-python",
   "name": "python",
   "nbconvert_exporter": "python",
   "pygments_lexer": "ipython3",
   "version": "3.9.2"
  },
  "orig_nbformat": 4
 },
 "nbformat": 4,
 "nbformat_minor": 2
}
